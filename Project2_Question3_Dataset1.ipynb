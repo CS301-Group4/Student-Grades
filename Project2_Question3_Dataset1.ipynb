{
 "cells": [
  {
   "cell_type": "code",
   "execution_count": 1,
   "metadata": {},
   "outputs": [],
   "source": [
    "#CS301 Project: Part 2 (Question 3: Akshit Patel and Sunny Raval)"
   ]
  },
  {
   "cell_type": "code",
   "execution_count": 1,
   "metadata": {},
   "outputs": [
    {
     "output_type": "stream",
     "name": "stdout",
     "text": [
      "                             Private  Apps  Accept  Enroll  F.Undergrad  \\\nAbilene Christian University     Yes  1660    1232     721         2885   \nAdelphi University               Yes  2186    1924     512         2683   \nAdrian College                   Yes  1428    1097     336         1036   \nAgnes Scott College              Yes   417     349     137          510   \nAlaska Pacific University        Yes   193     146      55          249   \n\n                              P.Undergrad  S.F.Ratio  Grad.Rate  \nAbilene Christian University          537       18.1         60  \nAdelphi University                   1227       12.2         56  \nAdrian College                         99       12.9         54  \nAgnes Scott College                    63        7.7         59  \nAlaska Pacific University             869       11.9         15  \n"
     ]
    }
   ],
   "source": [
    "#Deleting Unwanted Columns\n",
    "import pandas as pd\n",
    "\n",
    "CollegeFileData=pd.read_csv(\"Datasets/College_Data.csv\",index_col=0)\n",
    "CollegeData=pd.DataFrame(CollegeFileData)\n",
    "#Delete Top10perc column\n",
    "CollegeData=CollegeData.drop(\"Top10perc\", axis=1)\n",
    "#Delete Top25perc column\n",
    "CollegeData=CollegeData.drop(\"Top25perc\", axis=1)\n",
    "#Delete Outstate column\n",
    "CollegeData=CollegeData.drop(\"Outstate\", axis=1)\n",
    "#Delete Outstate column\n",
    "CollegeData=CollegeData.drop(\"Room.Board\", axis=1)\n",
    "#Delete Books column\n",
    "CollegeData=CollegeData.drop(\"Books\", axis=1)\n",
    "#Delete Personal column\n",
    "CollegeData=CollegeData.drop(\"Personal\", axis=1)\n",
    "#Delete perc.alumni column\n",
    "CollegeData=CollegeData.drop(\"perc.alumni\", axis=1)\n",
    "#Delete Expend column\n",
    "CollegeData=CollegeData.drop(\"Expend\", axis=1)\n",
    "#Delete PhD column\n",
    "CollegeData=CollegeData.drop(\"PhD\", axis=1)\n",
    "#Delete Terminal column\n",
    "CollegeData=CollegeData.drop(\"Terminal\", axis=1)\n",
    "\n",
    "print(CollegeData.head(5))"
   ]
  },
  {
   "cell_type": "code",
   "execution_count": 2,
   "metadata": {},
   "outputs": [
    {
     "output_type": "stream",
     "name": "stdout",
     "text": [
      "College_Name                 Private/Public  Applications  Acceptance  \\\nAbilene Christian University            Yes          1660        1232   \nAdelphi University                      Yes          2186        1924   \nAdrian College                          Yes          1428        1097   \nAgnes Scott College                     Yes           417         349   \nAlaska Pacific University               Yes           193         146   \n\nCollege_Name                  Enrollment  FullTime  PartTime  S.F_Ratio  \\\nAbilene Christian University         721      2885       537       18.1   \nAdelphi University                   512      2683      1227       12.2   \nAdrian College                       336      1036        99       12.9   \nAgnes Scott College                  137       510        63        7.7   \nAlaska Pacific University             55       249       869       11.9   \n\nCollege_Name                  Grad_Rate  \nAbilene Christian University         60  \nAdelphi University                   56  \nAdrian College                       54  \nAgnes Scott College                  59  \nAlaska Pacific University            15  \n"
     ]
    }
   ],
   "source": [
    "#Renaming Columns\n",
    "CollegeData = CollegeData.rename_axis(\"College_Name\", axis=\"columns\")\n",
    "CollegeData = CollegeData.rename(columns={'Private': 'Private/Public', 'Apps': 'Applications', 'Accept': 'Acceptance', 'Enroll': 'Enrollment', 'F.Undergrad': 'FullTime', 'P.Undergrad': 'PartTime', 'S.F.Ratio': 'S.F_Ratio','Grad.Rate': 'Grad_Rate'})\n",
    "print(CollegeData.head(5))\n",
    "\n",
    "\n"
   ]
  },
  {
   "cell_type": "code",
   "execution_count": 3,
   "metadata": {},
   "outputs": [
    {
     "output_type": "stream",
     "name": "stdout",
     "text": [
      "College_Name                 Private/Public  Applications  Acceptance  \\\nAbilene Christian University        Private          1660        1232   \nAdelphi University                  Private          2186        1924   \nAdrian College                      Private          1428        1097   \nAgnes Scott College                 Private           417         349   \nAlaska Pacific University           Private           193         146   \n\nCollege_Name                  Enrollment  FullTime  PartTime  S.F_Ratio  \\\nAbilene Christian University         721      2885       537       18.1   \nAdelphi University                   512      2683      1227       12.2   \nAdrian College                       336      1036        99       12.9   \nAgnes Scott College                  137       510        63        7.7   \nAlaska Pacific University             55       249       869       11.9   \n\nCollege_Name                  Grad_Rate  \nAbilene Christian University         60  \nAdelphi University                   56  \nAdrian College                       54  \nAgnes Scott College                  59  \nAlaska Pacific University            15  \n"
     ]
    }
   ],
   "source": [
    "#Changing yes and no from private/public column and changing the status to private or public\n",
    "\n",
    "#This will set Yes values to Private\n",
    "CollegeData.loc[CollegeData['Private/Public'] == 'Yes', 'Private/Public'] = 'Private'\n",
    "#This will set No values to Public\n",
    "CollegeData.loc[CollegeData['Private/Public'] == 'No', 'Private/Public'] = 'Public'\n",
    "print(CollegeData.head(5))\n",
    "   "
   ]
  },
  {
   "cell_type": "code",
   "execution_count": 4,
   "metadata": {},
   "outputs": [
    {
     "output_type": "stream",
     "name": "stdout",
     "text": [
      "->There are 0 duplicate values in the dataset\n->There are 0 empty values in the dataset\n"
     ]
    }
   ],
   "source": [
    "#Checking for duplicate entries in the data frame\n",
    "\n",
    "DupEntBool=CollegeData.duplicated()\n",
    "DupEntCheck=CollegeData.loc[DupEntBool==True]\n",
    "print(\"->There are %i duplicate values in the dataset\" %DupEntCheck.shape[0])\n",
    "\n",
    "#Checking for empty values in the data frame\n",
    "EmptyVals=CollegeData.isnull().sum()\n",
    "\n",
    "print(\"->There are %i empty values in the dataset\" %EmptyVals.sum())\n"
   ]
  },
  {
   "cell_type": "code",
   "execution_count": 5,
   "metadata": {},
   "outputs": [
    {
     "output_type": "stream",
     "name": "stdout",
     "text": [
      "College_Name  Applications    Acceptance   Enrollment      FullTime  \\\ncount           776.000000    776.000000   776.000000    776.000000   \nmean           3000.548969   2016.981959   780.298969   3703.373711   \nstd            3872.578376   2452.168020   929.731001   4852.585693   \nmin              81.000000     72.000000    35.000000    139.000000   \n25%             776.000000    603.250000   242.000000    991.000000   \n50%            1557.500000   1109.500000   434.000000   1707.500000   \n75%            3603.000000   2407.500000   902.250000   4030.250000   \nmax           48094.000000  26330.000000  6392.000000  31643.000000   \n\nCollege_Name      PartTime   S.F_Ratio   Grad_Rate  \ncount           776.000000  776.000000  776.000000  \nmean            856.385309   14.089433   65.395619  \nstd            1523.112196    3.960895   17.084743  \nmin               1.000000    2.500000   10.000000  \n25%              95.000000   11.500000   53.000000  \n50%             354.000000   13.600000   65.000000  \n75%             967.250000   16.500000   78.000000  \nmax           21836.000000   39.800000  100.000000  \n"
     ]
    }
   ],
   "source": [
    "#There is one row  which is Cazenovia College that has 118% as its graduation rate and that is not possible. So I will remove that row.\n",
    "\n",
    "ReadyCollegeData=CollegeData.drop(['Cazenovia College'])\n",
    "NewStats=ReadyCollegeData.describe()\n",
    "print(NewStats)\n"
   ]
  },
  {
   "cell_type": "code",
   "execution_count": 6,
   "metadata": {},
   "outputs": [
    {
     "output_type": "stream",
     "name": "stdout",
     "text": [
      "There were 72 outliers detected for Application Column.\nThere were 74 outliers detected for Acceptance Column.\nThere were 79 outliers detected for Enrollment Column.\nThere were 95 outliers detected for FullTime Column.\nThere were 67 outliers detected for PartTime Column.\nThere were 12 outliers detected for Student to Faculty Column.\nThere were 3 outliers detected for Graduation Rate Column.\n\n           Columns  Column Median  Column Mean  Column Range\n0      Application         1557.5  3000.548969       48013.0\n1       Acceptance         1109.5  2016.981959       26258.0\n2       Enrollment          434.0   780.298969        6357.0\n3         FullTime         1707.5  3703.373711       31504.0\n4         PartTime          354.0   856.385309       21835.0\n5       StoF_Ratio           13.6    14.089433          36.5\n6  Graduation rate           65.0    65.395619          90.0\n"
     ]
    }
   ],
   "source": [
    "#Finding stats for each column\n",
    "#Application Stats\n",
    "Application_Median=ReadyCollegeData[\"Applications\"].median()\n",
    "Application_Mean=ReadyCollegeData[\"Applications\"].mean()\n",
    "AppQ1=776.00\n",
    "AppQ2=1557.50\n",
    "AppQ3=3603.00\n",
    "AppIQR=AppQ3-AppQ1\n",
    "AppOutliers=ReadyCollegeData.loc[(ReadyCollegeData['Applications'] < AppQ1-(1.5*AppIQR)) | (ReadyCollegeData['Applications'] > AppQ3+(1.5*AppIQR))]\n",
    "AppOutliersCount=AppOutliers['Applications'].count()\n",
    "print(\"There were %i outliers detected for Application Column.\" %AppOutliersCount)\n",
    "\n",
    "#Acceptance Stats\n",
    "Acceptance_Median=ReadyCollegeData[\"Acceptance\"].median()\n",
    "Acceptance_Mean=ReadyCollegeData[\"Acceptance\"].mean()\n",
    "AcptQ1=603.25\n",
    "AcptQ2=1109.50\n",
    "AcptQ3=2407.00\n",
    "AcptIQR=AcptQ3-AcptQ1\n",
    "AcptOutliers=ReadyCollegeData.loc[(ReadyCollegeData['Acceptance'] < AcptQ1-(1.5*AcptIQR)) | (ReadyCollegeData['Acceptance'] > AcptQ3+(1.5*AcptIQR))]\n",
    "AcptOutliersCount=AcptOutliers['Acceptance'].count()\n",
    "print(\"There were %i outliers detected for Acceptance Column.\" %AcptOutliersCount)\n",
    "\n",
    "\n",
    "#Enrollment Stats\n",
    "Enrollment_Median=ReadyCollegeData[\"Enrollment\"].median()\n",
    "Enrollment_Mean=ReadyCollegeData[\"Enrollment\"].mean()\n",
    "EnrlQ1=242.00\n",
    "EnrlQ2=434.00\n",
    "EnrlQ3=902.00\n",
    "EnrlIQR=EnrlQ3-EnrlQ1\n",
    "EnrlOutliers=ReadyCollegeData.loc[(ReadyCollegeData['Enrollment'] < EnrlQ1-(1.5*EnrlIQR)) | (ReadyCollegeData['Enrollment'] > EnrlQ3+(1.5*EnrlIQR))]\n",
    "EnrlOutliersCount=EnrlOutliers['Enrollment'].count()\n",
    "print(\"There were %i outliers detected for Enrollment Column.\" %EnrlOutliersCount)\n",
    "\n",
    "\n",
    "#FullTime Students Stats\n",
    "FullTimeStudents_Median=ReadyCollegeData[\"FullTime\"].median()\n",
    "FullTimeStudents_Mean=ReadyCollegeData[\"FullTime\"].mean()\n",
    "FullQ1=991.00\n",
    "FullQ2=1707.50\n",
    "FullQ3=4030.25\n",
    "FullIQR=FullQ3-FullQ1\n",
    "FullOutliers=ReadyCollegeData.loc[(ReadyCollegeData['FullTime'] < FullQ1-(1.5*FullIQR)) | (ReadyCollegeData['FullTime'] > FullQ3+(1.5*FullIQR))]\n",
    "FullOutliersCount=FullOutliers['FullTime'].count()\n",
    "print(\"There were %i outliers detected for FullTime Column.\" %FullOutliersCount)\n",
    "\n",
    "\n",
    "#PartTime Students Stats\n",
    "PartTimeStudents_Median=ReadyCollegeData[\"PartTime\"].median()\n",
    "PartTimeStudents_Mean=ReadyCollegeData[\"PartTime\"].mean()\n",
    "PartQ1=95.00\n",
    "PartQ2=354.00\n",
    "PartQ3=967.25\n",
    "PartIQR=PartQ3-PartQ1\n",
    "PartOutliers=ReadyCollegeData.loc[(ReadyCollegeData['PartTime'] < PartQ1-(1.5*PartIQR)) | (ReadyCollegeData['PartTime'] > PartQ3+(1.5*PartIQR))]\n",
    "PartOutliersCount=PartOutliers['PartTime'].count()\n",
    "print(\"There were %i outliers detected for PartTime Column.\" %PartOutliersCount)\n",
    "\n",
    "#Student to Faculty ratio Stats\n",
    "StoF_Ratio_Median=ReadyCollegeData[\"S.F_Ratio\"].median()\n",
    "StoF_Ratio_Mean=ReadyCollegeData[\"S.F_Ratio\"].mean()\n",
    "StoFQ1=11.50\n",
    "StoFQ2=13.60\n",
    "StoFQ3=16.50\n",
    "StoFIQR=StoFQ3-StoFQ1\n",
    "StoFOutliers=ReadyCollegeData.loc[(ReadyCollegeData['S.F_Ratio'] < StoFQ1-(1.5*StoFIQR)) | (ReadyCollegeData['S.F_Ratio'] > StoFQ3+(1.5*StoFIQR))]\n",
    "StoFOutliersCount=StoFOutliers['S.F_Ratio'].count()\n",
    "print(\"There were %i outliers detected for Student to Faculty Column.\" %StoFOutliersCount)\n",
    "\n",
    "\n",
    "#Graduation rate Stats\n",
    "GraduationRate_Median=ReadyCollegeData[\"Grad_Rate\"].median()\n",
    "GraduationRate_Mean=ReadyCollegeData[\"Grad_Rate\"].mean()\n",
    "GradQ1=53.00\n",
    "GradQ2=65.00\n",
    "GradQ3=78.00\n",
    "GradIQR=GradQ3-GradQ1\n",
    "GradOutliers=ReadyCollegeData.loc[(ReadyCollegeData['Grad_Rate'] < GradQ1-(1.5*GradIQR)) | (ReadyCollegeData['Grad_Rate'] > GradQ3+(1.5*GradIQR))]\n",
    "GradOutliersCount=GradOutliers['Grad_Rate'].count()\n",
    "print(\"There were %i outliers detected for Graduation Rate Column.\" %GradOutliersCount)\n",
    "\n",
    "\n",
    "print()\n",
    "StatsForCollegeData = {'Columns': ['Application', 'Acceptance', 'Enrollment', 'FullTime', 'PartTime', 'StoF_Ratio', 'Graduation rate'], 'Column Median': [Application_Median, Acceptance_Median, Enrollment_Median, FullTimeStudents_Median, PartTimeStudents_Median, StoF_Ratio_Median, GraduationRate_Median ], 'Column Mean': [Application_Mean, Acceptance_Mean, Enrollment_Mean, FullTimeStudents_Mean, PartTimeStudents_Mean, StoF_Ratio_Mean, GraduationRate_Mean],'Column Median': [Application_Median, Acceptance_Median, Enrollment_Median, FullTimeStudents_Median, PartTimeStudents_Median, StoF_Ratio_Median, GraduationRate_Median ], 'Column Range': [48013, 26258, 6357, 31504, 21835, 36.5, 90]}\n",
    "Stats=pd.DataFrame(StatsForCollegeData)\n",
    "print(Stats)\n",
    "\n",
    "\n",
    "\n",
    "\n"
   ]
  },
  {
   "cell_type": "code",
   "execution_count": 7,
   "metadata": {},
   "outputs": [],
   "source": [
    "ReadyCollegeData.to_csv('college_tuition1.csv', header = False, index = False)"
   ]
  },
  {
   "cell_type": "code",
   "execution_count": null,
   "metadata": {},
   "outputs": [],
   "source": []
  }
 ],
 "metadata": {
  "kernelspec": {
   "display_name": "Python 3",
   "language": "python",
   "name": "python3"
  },
  "language_info": {
   "codemirror_mode": {
    "name": "ipython",
    "version": 3
   },
   "file_extension": ".py",
   "mimetype": "text/x-python",
   "name": "python",
   "nbconvert_exporter": "python",
   "pygments_lexer": "ipython3",
   "version": "3.8.3-final"
  }
 },
 "nbformat": 4,
 "nbformat_minor": 4
}