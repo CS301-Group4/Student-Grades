{
 "cells": [
  {
   "cell_type": "code",
   "execution_count": 1,
   "metadata": {},
   "outputs": [],
   "source": [
    "import matplotlib as mpl\n",
    "\n",
    "import matplotlib.pyplot as plt \n",
    "\n",
    "#produce static images in the entire notebook\n",
    "%matplotlib inline \n",
    "import pandas as pd\n",
    "import numpy as np"
   ]
  },
  {
   "cell_type": "code",
   "execution_count": 2,
   "metadata": {
    "scrolled": false
   },
   "outputs": [
    {
     "data": {
      "text/html": [
       "<div>\n",
       "<style scoped>\n",
       "    .dataframe tbody tr th:only-of-type {\n",
       "        vertical-align: middle;\n",
       "    }\n",
       "\n",
       "    .dataframe tbody tr th {\n",
       "        vertical-align: top;\n",
       "    }\n",
       "\n",
       "    .dataframe thead th {\n",
       "        text-align: right;\n",
       "    }\n",
       "</style>\n",
       "<table border=\"1\" class=\"dataframe\">\n",
       "  <thead>\n",
       "    <tr style=\"text-align: right;\">\n",
       "      <th></th>\n",
       "      <th>School Name</th>\n",
       "      <th>Private</th>\n",
       "      <th>Apps</th>\n",
       "      <th>Accept</th>\n",
       "      <th>Enroll</th>\n",
       "      <th>Top10perc</th>\n",
       "      <th>Top25perc</th>\n",
       "      <th>F.Undergrad</th>\n",
       "      <th>P.Undergrad</th>\n",
       "      <th>Outstate</th>\n",
       "      <th>Room.Board</th>\n",
       "      <th>Books</th>\n",
       "      <th>Personal</th>\n",
       "      <th>PhD</th>\n",
       "      <th>Terminal</th>\n",
       "      <th>S.F.Ratio</th>\n",
       "      <th>perc.alumni</th>\n",
       "      <th>Expend</th>\n",
       "      <th>Grad.Rate</th>\n",
       "    </tr>\n",
       "  </thead>\n",
       "  <tbody>\n",
       "    <tr>\n",
       "      <th>0</th>\n",
       "      <td>Abilene Christian University</td>\n",
       "      <td>Yes</td>\n",
       "      <td>1660</td>\n",
       "      <td>1232</td>\n",
       "      <td>721</td>\n",
       "      <td>23</td>\n",
       "      <td>52</td>\n",
       "      <td>2885</td>\n",
       "      <td>537</td>\n",
       "      <td>7440</td>\n",
       "      <td>3300</td>\n",
       "      <td>450</td>\n",
       "      <td>2200</td>\n",
       "      <td>70</td>\n",
       "      <td>78</td>\n",
       "      <td>18.1</td>\n",
       "      <td>12</td>\n",
       "      <td>7041</td>\n",
       "      <td>60</td>\n",
       "    </tr>\n",
       "    <tr>\n",
       "      <th>1</th>\n",
       "      <td>Adelphi University</td>\n",
       "      <td>Yes</td>\n",
       "      <td>2186</td>\n",
       "      <td>1924</td>\n",
       "      <td>512</td>\n",
       "      <td>16</td>\n",
       "      <td>29</td>\n",
       "      <td>2683</td>\n",
       "      <td>1227</td>\n",
       "      <td>12280</td>\n",
       "      <td>6450</td>\n",
       "      <td>750</td>\n",
       "      <td>1500</td>\n",
       "      <td>29</td>\n",
       "      <td>30</td>\n",
       "      <td>12.2</td>\n",
       "      <td>16</td>\n",
       "      <td>10527</td>\n",
       "      <td>56</td>\n",
       "    </tr>\n",
       "    <tr>\n",
       "      <th>2</th>\n",
       "      <td>Adrian College</td>\n",
       "      <td>Yes</td>\n",
       "      <td>1428</td>\n",
       "      <td>1097</td>\n",
       "      <td>336</td>\n",
       "      <td>22</td>\n",
       "      <td>50</td>\n",
       "      <td>1036</td>\n",
       "      <td>99</td>\n",
       "      <td>11250</td>\n",
       "      <td>3750</td>\n",
       "      <td>400</td>\n",
       "      <td>1165</td>\n",
       "      <td>53</td>\n",
       "      <td>66</td>\n",
       "      <td>12.9</td>\n",
       "      <td>30</td>\n",
       "      <td>8735</td>\n",
       "      <td>54</td>\n",
       "    </tr>\n",
       "    <tr>\n",
       "      <th>3</th>\n",
       "      <td>Agnes Scott College</td>\n",
       "      <td>Yes</td>\n",
       "      <td>417</td>\n",
       "      <td>349</td>\n",
       "      <td>137</td>\n",
       "      <td>60</td>\n",
       "      <td>89</td>\n",
       "      <td>510</td>\n",
       "      <td>63</td>\n",
       "      <td>12960</td>\n",
       "      <td>5450</td>\n",
       "      <td>450</td>\n",
       "      <td>875</td>\n",
       "      <td>92</td>\n",
       "      <td>97</td>\n",
       "      <td>7.7</td>\n",
       "      <td>37</td>\n",
       "      <td>19016</td>\n",
       "      <td>59</td>\n",
       "    </tr>\n",
       "    <tr>\n",
       "      <th>4</th>\n",
       "      <td>Alaska Pacific University</td>\n",
       "      <td>Yes</td>\n",
       "      <td>193</td>\n",
       "      <td>146</td>\n",
       "      <td>55</td>\n",
       "      <td>16</td>\n",
       "      <td>44</td>\n",
       "      <td>249</td>\n",
       "      <td>869</td>\n",
       "      <td>7560</td>\n",
       "      <td>4120</td>\n",
       "      <td>800</td>\n",
       "      <td>1500</td>\n",
       "      <td>76</td>\n",
       "      <td>72</td>\n",
       "      <td>11.9</td>\n",
       "      <td>2</td>\n",
       "      <td>10922</td>\n",
       "      <td>15</td>\n",
       "    </tr>\n",
       "  </tbody>\n",
       "</table>\n",
       "</div>"
      ],
      "text/plain": [
       "                    School Name Private  Apps  Accept  Enroll  Top10perc  \\\n",
       "0  Abilene Christian University     Yes  1660    1232     721         23   \n",
       "1            Adelphi University     Yes  2186    1924     512         16   \n",
       "2                Adrian College     Yes  1428    1097     336         22   \n",
       "3           Agnes Scott College     Yes   417     349     137         60   \n",
       "4     Alaska Pacific University     Yes   193     146      55         16   \n",
       "\n",
       "   Top25perc  F.Undergrad  P.Undergrad  Outstate  Room.Board  Books  Personal  \\\n",
       "0         52         2885          537      7440        3300    450      2200   \n",
       "1         29         2683         1227     12280        6450    750      1500   \n",
       "2         50         1036           99     11250        3750    400      1165   \n",
       "3         89          510           63     12960        5450    450       875   \n",
       "4         44          249          869      7560        4120    800      1500   \n",
       "\n",
       "   PhD  Terminal  S.F.Ratio  perc.alumni  Expend  Grad.Rate  \n",
       "0   70        78       18.1           12    7041         60  \n",
       "1   29        30       12.2           16   10527         56  \n",
       "2   53        66       12.9           30    8735         54  \n",
       "3   92        97        7.7           37   19016         59  \n",
       "4   76        72       11.9            2   10922         15  "
      ]
     },
     "execution_count": 2,
     "metadata": {},
     "output_type": "execute_result"
    }
   ],
   "source": [
    "df = pd.read_csv('College.csv')\n",
    "df.head()"
   ]
  },
  {
   "cell_type": "code",
   "execution_count": 3,
   "metadata": {
    "scrolled": true
   },
   "outputs": [
    {
     "data": {
      "text/html": [
       "<div>\n",
       "<style scoped>\n",
       "    .dataframe tbody tr th:only-of-type {\n",
       "        vertical-align: middle;\n",
       "    }\n",
       "\n",
       "    .dataframe tbody tr th {\n",
       "        vertical-align: top;\n",
       "    }\n",
       "\n",
       "    .dataframe thead th {\n",
       "        text-align: right;\n",
       "    }\n",
       "</style>\n",
       "<table border=\"1\" class=\"dataframe\">\n",
       "  <thead>\n",
       "    <tr style=\"text-align: right;\">\n",
       "      <th></th>\n",
       "      <th>School Name</th>\n",
       "      <th>Private</th>\n",
       "      <th>Grad.Rate</th>\n",
       "    </tr>\n",
       "  </thead>\n",
       "  <tbody>\n",
       "    <tr>\n",
       "      <th>0</th>\n",
       "      <td>Abilene Christian University</td>\n",
       "      <td>Yes</td>\n",
       "      <td>60</td>\n",
       "    </tr>\n",
       "    <tr>\n",
       "      <th>1</th>\n",
       "      <td>Adelphi University</td>\n",
       "      <td>Yes</td>\n",
       "      <td>56</td>\n",
       "    </tr>\n",
       "    <tr>\n",
       "      <th>2</th>\n",
       "      <td>Adrian College</td>\n",
       "      <td>Yes</td>\n",
       "      <td>54</td>\n",
       "    </tr>\n",
       "    <tr>\n",
       "      <th>3</th>\n",
       "      <td>Agnes Scott College</td>\n",
       "      <td>Yes</td>\n",
       "      <td>59</td>\n",
       "    </tr>\n",
       "    <tr>\n",
       "      <th>4</th>\n",
       "      <td>Alaska Pacific University</td>\n",
       "      <td>Yes</td>\n",
       "      <td>15</td>\n",
       "    </tr>\n",
       "  </tbody>\n",
       "</table>\n",
       "</div>"
      ],
      "text/plain": [
       "                    School Name Private  Grad.Rate\n",
       "0  Abilene Christian University     Yes         60\n",
       "1            Adelphi University     Yes         56\n",
       "2                Adrian College     Yes         54\n",
       "3           Agnes Scott College     Yes         59\n",
       "4     Alaska Pacific University     Yes         15"
      ]
     },
     "execution_count": 3,
     "metadata": {},
     "output_type": "execute_result"
    }
   ],
   "source": [
    "selected_columns = df[[\"School Name\",\"Private\",\"Grad.Rate\"]]\n",
    "new_df = selected_columns.copy()\n",
    "new_df.head()"
   ]
  },
  {
   "cell_type": "code",
   "execution_count": 5,
   "metadata": {},
   "outputs": [
    {
     "name": "stdout",
     "output_type": "stream",
     "text": [
      "0\n",
      "0\n",
      "0\n"
     ]
    }
   ],
   "source": [
    "def checkEmpty(df, col):\n",
    "    count = 0\n",
    "    for i in range(df.shape[0]):\n",
    "        if df[col].isna()[0]:\n",
    "            count +=1\n",
    "    return count\n",
    "    \n",
    "print(checkEmpty(new_df, \"School Name\"))\n",
    "print(checkEmpty(new_df, \"Private\"))\n",
    "print(checkEmpty(new_df, \"Grad.Rate\"))"
   ]
  },
  {
   "cell_type": "code",
   "execution_count": 6,
   "metadata": {},
   "outputs": [
    {
     "name": "stdout",
     "output_type": "stream",
     "text": [
      "55.0\n",
      "69.0\n"
     ]
    }
   ],
   "source": [
    "grouped = new_df.groupby('Private')\n",
    "publicMid = grouped.get_group('No')['Grad.Rate'].median()\n",
    "privateMid = grouped.get_group('Yes')['Grad.Rate'].median()\n",
    "print(publicMid)\n",
    "print(privateMid)"
   ]
  },
  {
   "cell_type": "code",
   "execution_count": 7,
   "metadata": {},
   "outputs": [
    {
     "data": {
      "text/plain": [
       "Text(0.5, 1.0, 'Graduation Rates in Public Schools vs. Private Schools')"
      ]
     },
     "execution_count": 7,
     "metadata": {},
     "output_type": "execute_result"
    },
    {
     "data": {
      "image/png": "[encoded data removed]",
      "text/plain": [
       "<Figure size 432x288 with 1 Axes>"
      ]
     },
     "metadata": {
      "needs_background": "light"
     },
     "output_type": "display_data"
    }
   ],
   "source": [
    "width =0.7\n",
    "\n",
    "labels = ['Public', 'Private']\n",
    "x = np.arange(len(labels))\n",
    "plt.ylabel('Graduation Rate (By %)')\n",
    "plt.xticks([0, 1], labels);\n",
    "\n",
    "plt.bar(x, (publicMid, privateMid), width=width, color='red')\n",
    "plt.title('Graduation Rates in Public Schools vs. Private Schools')"
   ]
  },
  {
   "cell_type": "code",
   "execution_count": 8,
   "metadata": {},
   "outputs": [
    {
     "name": "stdout",
     "output_type": "stream",
     "text": [
      "There are 4 Public Graduation Rate Outlier(s)\n",
      "                         School Name Private  Grad.Rate\n",
      "585        Texas Southern University      No         10\n",
      "279         James Madison University      No         98\n",
      "377  Missouri Southern State College      No        100\n",
      "693           University of Virginia      No         95\n",
      "\n",
      "There are 8 Private Graduation Rate Outlier(s)\n",
      "                   School Name Private  Grad.Rate\n",
      "4    Alaska Pacific University     Yes         15\n",
      "66      Brewton-Parker College     Yes         18\n",
      "113            Claflin College     Yes         21\n",
      "198             Ferrum College     Yes         22\n",
      "264           Huron University     Yes         21\n",
      "384  Montreat-Anderson College     Yes         15\n",
      "394  Mount Saint Clare College     Yes         21\n",
      "95           Cazenovia College     Yes        118\n"
     ]
    }
   ],
   "source": [
    "pubDf = grouped.get_group('No')\n",
    "privDf = grouped.get_group('Yes')\n",
    "\n",
    "#Public \n",
    "stcr = pubDf['Grad.Rate'].astype(float)\n",
    "iqr = stcr.quantile(0.75) - stcr.quantile(0.25)\n",
    "min = stcr.quantile(0.25) - (1.5 * iqr)\n",
    "max = stcr.quantile(0.75) + (1.5 * iqr)\n",
    "\n",
    "min_df = pubDf.loc[pubDf['Grad.Rate'].astype(float) < min]\n",
    "max_df = pubDf.loc[pubDf['Grad.Rate'].astype(float) > max]\n",
    "outliers = pd.concat([min_df, max_df])\n",
    "\n",
    "if(len(outliers) == 0):\n",
    "    print(\"There are 0 Public Graduation Rate Outliers\")\n",
    "else:\n",
    "    print(\"There are %d Public Graduation Rate Outlier(s)\" % len(outliers))\n",
    "    print(outliers.head(len(outliers)))\n",
    "    \n",
    "print()\n",
    "#Private \n",
    "stcr = privDf['Grad.Rate'].astype(float)\n",
    "iqr = stcr.quantile(0.75) - stcr.quantile(0.25)\n",
    "min = stcr.quantile(0.25) - (1.5 * iqr)\n",
    "max = stcr.quantile(0.75) + (1.5 * iqr)\n",
    "\n",
    "min_df = privDf.loc[privDf['Grad.Rate'].astype(float) < min]\n",
    "max_df = privDf.loc[privDf['Grad.Rate'].astype(float) > max]\n",
    "outliers = pd.concat([min_df, max_df])\n",
    "\n",
    "if(len(outliers) == 0):\n",
    "    print(\"There are 0 Private Graduation Rate Outliers\")\n",
    "else:\n",
    "    print(\"There are %d Private Graduation Rate Outlier(s)\" % len(outliers))\n",
    "    print(outliers.head(len(outliers)))"
   ]
  },
  {
   "cell_type": "code",
   "execution_count": 24,
   "metadata": {
    "scrolled": true
   },
   "outputs": [
    {
     "data": {
      "text/plain": [
       "Text(0.5, 1.0, 'Graduation rate of Private colleges')"
      ]
     },
     "execution_count": 24,
     "metadata": {},
     "output_type": "execute_result"
    },
    {
     "data": {
      "image/png": "[encoded data removed]",
      "text/plain": [
       "<Figure size 432x288 with 1 Axes>"
      ]
     },
     "metadata": {
      "needs_background": "light"
     },
     "output_type": "display_data"
    }
   ],
   "source": [
    "bin_lst = [i for i in range(0, 110, 10)]\n",
    "privDf.hist(column='Grad.Rate',alpha=0.5,bins=bin_lst,color = 'blue')\n",
    "plt.xlabel('Graduation Rate %')\n",
    "plt.ylabel('Number of colleges')\n",
    "plt.title(r'Graduation rate of Private colleges')"
   ]
  },
  {
   "cell_type": "code",
   "execution_count": 25,
   "metadata": {},
   "outputs": [
    {
     "data": {
      "text/plain": [
       "Text(0.5, 1.0, 'Graduation rate of Public colleges')"
      ]
     },
     "execution_count": 25,
     "metadata": {},
     "output_type": "execute_result"
    },
    {
     "data": {
      "image/png": "[encoded data removed]",
      "text/plain": [
       "<Figure size 432x288 with 1 Axes>"
      ]
     },
     "metadata": {
      "needs_background": "light"
     },
     "output_type": "display_data"
    }
   ],
   "source": [
    "bin_lst = [i for i in range(0, 110, 10)]\n",
    "pubDf.hist(column='Grad.Rate',alpha=0.5,bins=bin_lst,color = 'red')\n",
    "plt.xlabel('Graduation Rate %')\n",
    "plt.ylabel('Number of colleges')\n",
    "plt.title(r'Graduation rate of Public colleges')"
   ]
  },
  {
   "cell_type": "code",
   "execution_count": 26,
   "metadata": {},
   "outputs": [
    {
     "name": "stdout",
     "output_type": "stream",
     "text": [
      "56.04245283018868\n",
      "68.99823008849557\n"
     ]
    }
   ],
   "source": [
    "publicMean = grouped.get_group('No')['Grad.Rate'].mean()\n",
    "privateMean = grouped.get_group('Yes')['Grad.Rate'].mean()\n",
    "print(publicMean)\n",
    "print(privateMean)"
   ]
  },
  {
   "cell_type": "code",
   "execution_count": 27,
   "metadata": {},
   "outputs": [
    {
     "name": "stdout",
     "output_type": "stream",
     "text": [
      "14.583412300770258\n",
      "16.749457397270923\n"
     ]
    }
   ],
   "source": [
    "publicStd = grouped.get_group('No')['Grad.Rate'].std()\n",
    "privateStd = grouped.get_group('Yes')['Grad.Rate'].std()\n",
    "print(publicStd)\n",
    "print(privateStd)"
   ]
  },
  {
   "cell_type": "code",
   "execution_count": null,
   "metadata": {},
   "outputs": [],
   "source": []
  }
 ],
 "metadata": {
  "kernelspec": {
   "display_name": "Python 3",
   "language": "python",
   "name": "python3"
  },
  "language_info": {
   "codemirror_mode": {
    "name": "ipython",
    "version": 3
   },
   "file_extension": ".py",
   "mimetype": "text/x-python",
   "name": "python",
   "nbconvert_exporter": "python",
   "pygments_lexer": "ipython3",
   "version": "3.8.3"
  }
 },
 "nbformat": 4,
 "nbformat_minor": 4
}
