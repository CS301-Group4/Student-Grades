{
 "cells": [
  {
   "cell_type": "code",
   "execution_count": 1,
   "metadata": {},
   "outputs": [
    {
     "output_type": "stream",
     "name": "stdout",
     "text": [
      "                                           state state_code        type  \\\nname                                                                      \nAaniiih Nakoda College                   Montana         MT      Public   \nAbilene Christian University               Texas         TX     Private   \nAbraham Baldwin Agricultural College     Georgia         GA      Public   \nAcademy College                        Minnesota         MN  For Profit   \nAcademy of Art University             California         CA  For Profit   \n\n                                     degree_length  room_and_board  \\\nname                                                                 \nAaniiih Nakoda College                      2 Year             NaN   \nAbilene Christian University                4 Year         10350.0   \nAbraham Baldwin Agricultural College        2 Year          8474.0   \nAcademy College                             2 Year             NaN   \nAcademy of Art University                   4 Year         16648.0   \n\n                                      in_state_tuition  in_state_total  \\\nname                                                                     \nAaniiih Nakoda College                            2380            2380   \nAbilene Christian University                     34850           45200   \nAbraham Baldwin Agricultural College              4128           12602   \nAcademy College                                  17661           17661   \nAcademy of Art University                        27810           44458   \n\n                                      out_of_state_tuition  out_of_state_total  \nname                                                                            \nAaniiih Nakoda College                                2380                2380  \nAbilene Christian University                         34850               45200  \nAbraham Baldwin Agricultural College                 12550               21024  \nAcademy College                                      17661               17661  \nAcademy of Art University                            27810               44458  \n"
     ]
    }
   ],
   "source": [
    "import pandas as pd\n",
    "import numpy as np\n",
    "\n",
    "df1 = pd.read_csv(\"Datasets/tuition_cost.csv\", index_col=0)\n",
    "college_tuition = pd.DataFrame(df1)\n",
    "print(df1.head(5))"
   ]
  },
  {
   "cell_type": "code",
   "execution_count": 2,
   "metadata": {},
   "outputs": [
    {
     "output_type": "stream",
     "name": "stdout",
     "text": [
      "                                           state        type degree_length  \\\nname                                                                         \nAaniiih Nakoda College                   Montana      Public        2 Year   \nAbilene Christian University               Texas     Private        4 Year   \nAbraham Baldwin Agricultural College     Georgia      Public        2 Year   \nAcademy College                        Minnesota  For Profit        2 Year   \nAcademy of Art University             California  For Profit        4 Year   \n\n                                      in_state_tuition  out_of_state_tuition  \nname                                                                          \nAaniiih Nakoda College                            2380                  2380  \nAbilene Christian University                     34850                 34850  \nAbraham Baldwin Agricultural College              4128                 12550  \nAcademy College                                  17661                 17661  \nAcademy of Art University                        27810                 27810  \n"
     ]
    }
   ],
   "source": [
    "#Deleting unnecessary  columns\n",
    "college_tuition=college_tuition.drop(\"state_code\", axis=1)\n",
    "college_tuition=college_tuition.drop(\"room_and_board\", axis=1)\n",
    "college_tuition=college_tuition.drop(\"in_state_total\", axis=1)\n",
    "college_tuition=college_tuition.drop(\"out_of_state_total\", axis=1)\n",
    "print(college_tuition.head(5))"
   ]
  },
  {
   "cell_type": "code",
   "execution_count": 3,
   "metadata": {},
   "outputs": [
    {
     "output_type": "stream",
     "name": "stdout",
     "text": [
      "->There are 164 duplicate values in the dataset\n"
     ]
    }
   ],
   "source": [
    "#Checking if there are duplicate values are in the dataset or not\n",
    "\n",
    "duplicates = college_tuition.duplicated()\n",
    "DupEntCheck=college_tuition.loc[duplicates==True]\n",
    "print(\"->There are %i duplicate values in the dataset\" %DupEntCheck.shape[0])\n"
   ]
  },
  {
   "cell_type": "code",
   "execution_count": 4,
   "metadata": {},
   "outputs": [
    {
     "output_type": "stream",
     "name": "stdout",
     "text": [
      "As we can see above there are many duplicate values because some of the colleges have the same in state and out of state tuition fee\n"
     ]
    }
   ],
   "source": [
    "print('As we can see above there are many duplicate values because some of the colleges have the same in state and out of state tuition fee')"
   ]
  },
  {
   "cell_type": "code",
   "execution_count": 5,
   "metadata": {},
   "outputs": [
    {
     "output_type": "stream",
     "name": "stdout",
     "text": [
      "->There are 0 empty values in the dataset\n"
     ]
    }
   ],
   "source": [
    "#Removing the rows with empty State name values\n",
    "college_tuition.dropna(subset = [\"state\"], inplace=True)\n",
    "\n",
    "EmptyVals=college_tuition.isnull().sum()\n",
    "\n",
    "print(\"->There are %i empty values in the dataset\" %EmptyVals.sum())"
   ]
  },
  {
   "cell_type": "code",
   "execution_count": 6,
   "metadata": {},
   "outputs": [
    {
     "output_type": "stream",
     "name": "stdout",
     "text": [
      "                                           state     type degree_length  \\\nname                                                                      \nAaniiih Nakoda College                   Montana   Public        2 Year   \nAbilene Christian University               Texas  Private        4 Year   \nAbraham Baldwin Agricultural College     Georgia   Public        2 Year   \nAcademy College                        Minnesota  Private        2 Year   \nAcademy of Art University             California  Private        4 Year   \n\n                                      in_state_tuition  out_of_state_tuition  \nname                                                                          \nAaniiih Nakoda College                            2380                  2380  \nAbilene Christian University                     34850                 34850  \nAbraham Baldwin Agricultural College              4128                 12550  \nAcademy College                                  17661                 17661  \nAcademy of Art University                        27810                 27810  \n"
     ]
    }
   ],
   "source": [
    "#Changing the colleges types which have For profit, changing into Private \n",
    "college_tuition.loc[college_tuition['type'] == 'For Profit', 'type'] = 'Private'\n",
    "\n",
    "college_tuition.loc[college_tuition['type'] == 'For Profit', 'type']\n",
    "print(college_tuition.head())"
   ]
  },
  {
   "cell_type": "code",
   "execution_count": 7,
   "metadata": {},
   "outputs": [
    {
     "output_type": "stream",
     "name": "stdout",
     "text": [
      "       in_state_tuition  out_of_state_tuition\ncount       2921.000000           2921.000000\nmean       16607.326600          20711.517973\nstd        14780.559032          13195.641363\nmin          480.000000            480.000000\n25%         4912.000000           9795.000000\n50%        10355.000000          17700.000000\n75%        27350.000000          29300.000000\nmax        59985.000000          59985.000000\n"
     ]
    }
   ],
   "source": [
    "#Stats for whole Dataset\n",
    "NewStats=college_tuition.describe()\n",
    "print(NewStats)"
   ]
  },
  {
   "cell_type": "code",
   "execution_count": 8,
   "metadata": {},
   "outputs": [
    {
     "output_type": "stream",
     "name": "stdout",
     "text": [
      "There were 0 outliers detected for in_state_tuition Column.\nThere were 1 outliers detected for out_of_state_tuition Column.\n\n                Columns  Column Median   Column Mean  Column Range\n0      in_state_tuition        10355.0  16607.326600         59505\n1  out_of_state_tuition        17700.0  20711.517973         59505\n"
     ]
    }
   ],
   "source": [
    "#Stats for the individual columns\n",
    "\n",
    "#in_state_tuition stats\n",
    "inState_Median=college_tuition[\"in_state_tuition\"].median()\n",
    "inState_Mean=college_tuition[\"in_state_tuition\"].mean()\n",
    "inStateQ1=4912.00\n",
    "inStateQ2=10355.00\n",
    "inStateQ3=27350.00\n",
    "inStateIQR=inStateQ3-inStateQ1\n",
    "inStateOutliers=college_tuition.loc[(college_tuition['in_state_tuition'] < inStateQ1-(1.5*inStateIQR)) | (college_tuition['in_state_tuition'] > inStateQ3+(1.5*inStateIQR))]\n",
    "inStateOutliersCount=inStateOutliers['in_state_tuition'].count()\n",
    "print(\"There were %i outliers detected for in_state_tuition Column.\" %inStateOutliersCount)\n",
    "\n",
    "\n",
    "#out_of_state_tuition stats\n",
    "outState_Median=college_tuition[\"out_of_state_tuition\"].median()\n",
    "outState_Mean=college_tuition[\"out_of_state_tuition\"].mean()\n",
    "outStateQ1=9795.00\n",
    "outStateQ2=17700.00\n",
    "outStateQ3=29300.00\n",
    "outStateIQR=outStateQ3-outStateQ1\n",
    "outStateOutliers=college_tuition.loc[(college_tuition['out_of_state_tuition'] < outStateQ1-(1.5*outStateIQR)) | (college_tuition['out_of_state_tuition'] > outStateQ3+(1.5*outStateIQR))]\n",
    "outStateOutliersCount=outStateOutliers['out_of_state_tuition'].count()\n",
    "print(\"There were %i outliers detected for out_of_state_tuition Column.\" %outStateOutliersCount)\n",
    "\n",
    "print()\n",
    "StatsForCollegeData = {'Columns': ['in_state_tuition', 'out_of_state_tuition'], 'Column Median': [inState_Median, outState_Median ], 'Column Mean': [inState_Mean, outState_Mean], 'Column Range': [59505, 59505]}\n",
    "Stats=pd.DataFrame(StatsForCollegeData)\n",
    "print(Stats)"
   ]
  },
  {
   "cell_type": "code",
   "execution_count": 9,
   "metadata": {},
   "outputs": [],
   "source": [
    "college_tuition.to_csv('college_tuition2.csv', header = False, index = False)"
   ]
  },
  {
   "cell_type": "code",
   "execution_count": null,
   "metadata": {},
   "outputs": [],
   "source": []
  }
 ],
 "metadata": {
  "kernelspec": {
   "display_name": "Python 3",
   "language": "python",
   "name": "python3"
  },
  "language_info": {
   "codemirror_mode": {
    "name": "ipython",
    "version": 3
   },
   "file_extension": ".py",
   "mimetype": "text/x-python",
   "name": "python",
   "nbconvert_exporter": "python",
   "pygments_lexer": "ipython3",
   "version": "3.8.3-final"
  }
 },
 "nbformat": 4,
 "nbformat_minor": 4
}