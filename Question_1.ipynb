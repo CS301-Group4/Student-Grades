{
 "cells": [
  {
   "cell_type": "code",
   "execution_count": 165,
   "metadata": {},
   "outputs": [],
   "source": [
    "#Question:\n",
    "#How does your major, college, college type and region affect your graduation salary, and your mid-career salary?"
   ]
  },
  {
   "cell_type": "code",
   "execution_count": 166,
   "metadata": {},
   "outputs": [],
   "source": [
    "import numpy as np\n",
    "import pandas as pd"
   ]
  },
  {
   "cell_type": "code",
   "execution_count": 167,
   "metadata": {},
   "outputs": [],
   "source": [
    "#changed path to this because this is what is need to run it off of github\n",
    "#you can uncomment ur path when you are running this code on ur machine\n",
    "\n",
    "# path = 'C:\\\\Users\\\\kalra\\\\Documents\\\\NJIT\\\\Junior\\\\Fall 2020\\\\CS 301\\\\Group Project\\\\'\n",
    "path = \"Kaggle Data Sets/\"      \n",
    "deg_df = pd.read_csv(path + 'degrees-that-pay-back.csv', index_col = 0)\n",
    "salc_df = pd.read_csv(path + 'salaries-by-college-type.csv', index_col = 0)\n",
    "salr_df = pd.read_csv(path + 'salaries-by-region.csv', index_col = 0)"
   ]
  },
  {
   "cell_type": "code",
   "execution_count": 168,
   "metadata": {},
   "outputs": [
    {
     "output_type": "execute_result",
     "data": {
      "text/plain": [
       "                      Starting Median Salary Mid-Career Median Salary\n",
       "Undergraduate Major                                                  \n",
       "Accounting                        $46,000.00               $77,100.00\n",
       "Aerospace Engineering             $57,700.00              $101,000.00\n",
       "Agriculture                       $42,600.00               $71,900.00\n",
       "Anthropology                      $36,800.00               $61,500.00\n",
       "Architecture                      $41,600.00               $76,800.00"
      ],
      "text/html": "<div>\n<style scoped>\n    .dataframe tbody tr th:only-of-type {\n        vertical-align: middle;\n    }\n\n    .dataframe tbody tr th {\n        vertical-align: top;\n    }\n\n    .dataframe thead th {\n        text-align: right;\n    }\n</style>\n<table border=\"1\" class=\"dataframe\">\n  <thead>\n    <tr style=\"text-align: right;\">\n      <th></th>\n      <th>Starting Median Salary</th>\n      <th>Mid-Career Median Salary</th>\n    </tr>\n    <tr>\n      <th>Undergraduate Major</th>\n      <th></th>\n      <th></th>\n    </tr>\n  </thead>\n  <tbody>\n    <tr>\n      <th>Accounting</th>\n      <td>$46,000.00</td>\n      <td>$77,100.00</td>\n    </tr>\n    <tr>\n      <th>Aerospace Engineering</th>\n      <td>$57,700.00</td>\n      <td>$101,000.00</td>\n    </tr>\n    <tr>\n      <th>Agriculture</th>\n      <td>$42,600.00</td>\n      <td>$71,900.00</td>\n    </tr>\n    <tr>\n      <th>Anthropology</th>\n      <td>$36,800.00</td>\n      <td>$61,500.00</td>\n    </tr>\n    <tr>\n      <th>Architecture</th>\n      <td>$41,600.00</td>\n      <td>$76,800.00</td>\n    </tr>\n  </tbody>\n</table>\n</div>"
     },
     "metadata": {},
     "execution_count": 168
    }
   ],
   "source": [
    "#This data set contains all the data we need to answer about how your major effects your starting salary and mid career salary\n",
    "major_salary = deg_df[[\"Starting Median Salary\", \"Mid-Career Median Salary\"]]\n",
    "major_salary.head()"
   ]
  },
  {
   "cell_type": "code",
   "execution_count": 169,
   "metadata": {},
   "outputs": [],
   "source": [
    "# salc_df.sort_values(by=['School Name'], ascending = True).head()"
   ]
  },
  {
   "cell_type": "code",
   "execution_count": 170,
   "metadata": {},
   "outputs": [],
   "source": [
    "# salr_df.sort_values(by=\"School Name\", ascending = True).head()"
   ]
  },
  {
   "cell_type": "code",
   "execution_count": 171,
   "metadata": {},
   "outputs": [
    {
     "output_type": "execute_result",
     "data": {
      "text/plain": [
       "                                       Region Starting Median Salary  \\\n",
       "School Name                                                            \n",
       "Amherst College                  Northeastern             $54,500.00   \n",
       "Appalachian State University         Southern             $40,400.00   \n",
       "Arizona State University (ASU)        Western             $47,400.00   \n",
       "Arizona State University (ASU)        Western             $47,400.00   \n",
       "Arkansas State University (ASU)      Southern             $38,700.00   \n",
       "\n",
       "                                Mid-Career Median Salary  \\\n",
       "School Name                                                \n",
       "Amherst College                              $107,000.00   \n",
       "Appalachian State University                  $69,100.00   \n",
       "Arizona State University (ASU)                $84,100.00   \n",
       "Arizona State University (ASU)                $84,100.00   \n",
       "Arkansas State University (ASU)               $63,300.00   \n",
       "\n",
       "                                Mid-Career 10th Percentile Salary  \\\n",
       "School Name                                                         \n",
       "Amherst College                                               NaN   \n",
       "Appalachian State University                           $37,200.00   \n",
       "Arizona State University (ASU)                         $44,600.00   \n",
       "Arizona State University (ASU)                         $44,600.00   \n",
       "Arkansas State University (ASU)                        $33,600.00   \n",
       "\n",
       "                                Mid-Career 25th Percentile Salary  \\\n",
       "School Name                                                         \n",
       "Amherst College                                        $84,900.00   \n",
       "Appalachian State University                           $50,400.00   \n",
       "Arizona State University (ASU)                         $60,700.00   \n",
       "Arizona State University (ASU)                         $60,700.00   \n",
       "Arkansas State University (ASU)                        $45,300.00   \n",
       "\n",
       "                                Mid-Career 75th Percentile Salary  \\\n",
       "School Name                                                         \n",
       "Amherst College                                       $162,000.00   \n",
       "Appalachian State University                           $90,800.00   \n",
       "Arizona State University (ASU)                        $114,000.00   \n",
       "Arizona State University (ASU)                        $114,000.00   \n",
       "Arkansas State University (ASU)                        $83,900.00   \n",
       "\n",
       "                                Mid-Career 90th Percentile Salary  \\\n",
       "School Name                                                         \n",
       "Amherst College                                               NaN   \n",
       "Appalachian State University                          $115,000.00   \n",
       "Arizona State University (ASU)                        $163,000.00   \n",
       "Arizona State University (ASU)                        $163,000.00   \n",
       "Arkansas State University (ASU)                       $118,000.00   \n",
       "\n",
       "                                  School Type Starting Median Salary_y  \\\n",
       "School Name                                                              \n",
       "Amherst College                  Liberal Arts               $54,500.00   \n",
       "Appalachian State University            State               $40,400.00   \n",
       "Arizona State University (ASU)          State               $47,400.00   \n",
       "Arizona State University (ASU)          Party               $47,400.00   \n",
       "Arkansas State University (ASU)         State               $38,700.00   \n",
       "\n",
       "                                Mid-Career Median Salary_y  \\\n",
       "School Name                                                  \n",
       "Amherst College                                $107,000.00   \n",
       "Appalachian State University                    $69,100.00   \n",
       "Arizona State University (ASU)                  $84,100.00   \n",
       "Arizona State University (ASU)                  $84,100.00   \n",
       "Arkansas State University (ASU)                 $63,300.00   \n",
       "\n",
       "                                Mid-Career 10th Percentile Salary_y  \\\n",
       "School Name                                                           \n",
       "Amherst College                                                 NaN   \n",
       "Appalachian State University                             $37,200.00   \n",
       "Arizona State University (ASU)                           $44,600.00   \n",
       "Arizona State University (ASU)                           $44,600.00   \n",
       "Arkansas State University (ASU)                          $33,600.00   \n",
       "\n",
       "                                Mid-Career 25th Percentile Salary_y  \\\n",
       "School Name                                                           \n",
       "Amherst College                                          $84,900.00   \n",
       "Appalachian State University                             $50,400.00   \n",
       "Arizona State University (ASU)                           $60,700.00   \n",
       "Arizona State University (ASU)                           $60,700.00   \n",
       "Arkansas State University (ASU)                          $45,300.00   \n",
       "\n",
       "                                Mid-Career 75th Percentile Salary_y  \\\n",
       "School Name                                                           \n",
       "Amherst College                                         $162,000.00   \n",
       "Appalachian State University                             $90,800.00   \n",
       "Arizona State University (ASU)                          $114,000.00   \n",
       "Arizona State University (ASU)                          $114,000.00   \n",
       "Arkansas State University (ASU)                          $83,900.00   \n",
       "\n",
       "                                Mid-Career 90th Percentile Salary_y  \n",
       "School Name                                                          \n",
       "Amherst College                                                 NaN  \n",
       "Appalachian State University                            $115,000.00  \n",
       "Arizona State University (ASU)                          $163,000.00  \n",
       "Arizona State University (ASU)                          $163,000.00  \n",
       "Arkansas State University (ASU)                         $118,000.00  "
      ],
      "text/html": "<div>\n<style scoped>\n    .dataframe tbody tr th:only-of-type {\n        vertical-align: middle;\n    }\n\n    .dataframe tbody tr th {\n        vertical-align: top;\n    }\n\n    .dataframe thead th {\n        text-align: right;\n    }\n</style>\n<table border=\"1\" class=\"dataframe\">\n  <thead>\n    <tr style=\"text-align: right;\">\n      <th></th>\n      <th>Region</th>\n      <th>Starting Median Salary</th>\n      <th>Mid-Career Median Salary</th>\n      <th>Mid-Career 10th Percentile Salary</th>\n      <th>Mid-Career 25th Percentile Salary</th>\n      <th>Mid-Career 75th Percentile Salary</th>\n      <th>Mid-Career 90th Percentile Salary</th>\n      <th>School Type</th>\n      <th>Starting Median Salary_y</th>\n      <th>Mid-Career Median Salary_y</th>\n      <th>Mid-Career 10th Percentile Salary_y</th>\n      <th>Mid-Career 25th Percentile Salary_y</th>\n      <th>Mid-Career 75th Percentile Salary_y</th>\n      <th>Mid-Career 90th Percentile Salary_y</th>\n    </tr>\n    <tr>\n      <th>School Name</th>\n      <th></th>\n      <th></th>\n      <th></th>\n      <th></th>\n      <th></th>\n      <th></th>\n      <th></th>\n      <th></th>\n      <th></th>\n      <th></th>\n      <th></th>\n      <th></th>\n      <th></th>\n      <th></th>\n    </tr>\n  </thead>\n  <tbody>\n    <tr>\n      <th>Amherst College</th>\n      <td>Northeastern</td>\n      <td>$54,500.00</td>\n      <td>$107,000.00</td>\n      <td>NaN</td>\n      <td>$84,900.00</td>\n      <td>$162,000.00</td>\n      <td>NaN</td>\n      <td>Liberal Arts</td>\n      <td>$54,500.00</td>\n      <td>$107,000.00</td>\n      <td>NaN</td>\n      <td>$84,900.00</td>\n      <td>$162,000.00</td>\n      <td>NaN</td>\n    </tr>\n    <tr>\n      <th>Appalachian State University</th>\n      <td>Southern</td>\n      <td>$40,400.00</td>\n      <td>$69,100.00</td>\n      <td>$37,200.00</td>\n      <td>$50,400.00</td>\n      <td>$90,800.00</td>\n      <td>$115,000.00</td>\n      <td>State</td>\n      <td>$40,400.00</td>\n      <td>$69,100.00</td>\n      <td>$37,200.00</td>\n      <td>$50,400.00</td>\n      <td>$90,800.00</td>\n      <td>$115,000.00</td>\n    </tr>\n    <tr>\n      <th>Arizona State University (ASU)</th>\n      <td>Western</td>\n      <td>$47,400.00</td>\n      <td>$84,100.00</td>\n      <td>$44,600.00</td>\n      <td>$60,700.00</td>\n      <td>$114,000.00</td>\n      <td>$163,000.00</td>\n      <td>State</td>\n      <td>$47,400.00</td>\n      <td>$84,100.00</td>\n      <td>$44,600.00</td>\n      <td>$60,700.00</td>\n      <td>$114,000.00</td>\n      <td>$163,000.00</td>\n    </tr>\n    <tr>\n      <th>Arizona State University (ASU)</th>\n      <td>Western</td>\n      <td>$47,400.00</td>\n      <td>$84,100.00</td>\n      <td>$44,600.00</td>\n      <td>$60,700.00</td>\n      <td>$114,000.00</td>\n      <td>$163,000.00</td>\n      <td>Party</td>\n      <td>$47,400.00</td>\n      <td>$84,100.00</td>\n      <td>$44,600.00</td>\n      <td>$60,700.00</td>\n      <td>$114,000.00</td>\n      <td>$163,000.00</td>\n    </tr>\n    <tr>\n      <th>Arkansas State University (ASU)</th>\n      <td>Southern</td>\n      <td>$38,700.00</td>\n      <td>$63,300.00</td>\n      <td>$33,600.00</td>\n      <td>$45,300.00</td>\n      <td>$83,900.00</td>\n      <td>$118,000.00</td>\n      <td>State</td>\n      <td>$38,700.00</td>\n      <td>$63,300.00</td>\n      <td>$33,600.00</td>\n      <td>$45,300.00</td>\n      <td>$83,900.00</td>\n      <td>$118,000.00</td>\n    </tr>\n  </tbody>\n</table>\n</div>"
     },
     "metadata": {},
     "execution_count": 171
    }
   ],
   "source": [
    "#This cell merges the salary by college and region data set into one data set with no duplicate columns\n",
    "merged_data = pd.merge(salr_df, salc_df, on=\"School Name\", how = \"right\", suffixes = ('', '_y'))\n",
    "merged_data.drop(data1.filter(regex='_y$').columns.tolist(),axis=1, inplace=True)\n",
    "merged_data.sort_values(by=\"School Name\", ascending = True).head()"
   ]
  },
  {
   "cell_type": "code",
   "execution_count": 172,
   "metadata": {},
   "outputs": [
    {
     "output_type": "execute_result",
     "data": {
      "text/plain": [
       "                                  School Type        Region  \\\n",
       "School Name                                                   \n",
       "Amherst College                  Liberal Arts  Northeastern   \n",
       "Appalachian State University            State      Southern   \n",
       "Arizona State University (ASU)          State       Western   \n",
       "Arizona State University (ASU)          Party       Western   \n",
       "Arkansas State University (ASU)         State      Southern   \n",
       "\n",
       "                                Starting Median Salary  \\\n",
       "School Name                                              \n",
       "Amherst College                             $54,500.00   \n",
       "Appalachian State University                $40,400.00   \n",
       "Arizona State University (ASU)              $47,400.00   \n",
       "Arizona State University (ASU)              $47,400.00   \n",
       "Arkansas State University (ASU)             $38,700.00   \n",
       "\n",
       "                                Mid-Career Median Salary  \n",
       "School Name                                               \n",
       "Amherst College                              $107,000.00  \n",
       "Appalachian State University                  $69,100.00  \n",
       "Arizona State University (ASU)                $84,100.00  \n",
       "Arizona State University (ASU)                $84,100.00  \n",
       "Arkansas State University (ASU)               $63,300.00  "
      ],
      "text/html": "<div>\n<style scoped>\n    .dataframe tbody tr th:only-of-type {\n        vertical-align: middle;\n    }\n\n    .dataframe tbody tr th {\n        vertical-align: top;\n    }\n\n    .dataframe thead th {\n        text-align: right;\n    }\n</style>\n<table border=\"1\" class=\"dataframe\">\n  <thead>\n    <tr style=\"text-align: right;\">\n      <th></th>\n      <th>School Type</th>\n      <th>Region</th>\n      <th>Starting Median Salary</th>\n      <th>Mid-Career Median Salary</th>\n    </tr>\n    <tr>\n      <th>School Name</th>\n      <th></th>\n      <th></th>\n      <th></th>\n      <th></th>\n    </tr>\n  </thead>\n  <tbody>\n    <tr>\n      <th>Amherst College</th>\n      <td>Liberal Arts</td>\n      <td>Northeastern</td>\n      <td>$54,500.00</td>\n      <td>$107,000.00</td>\n    </tr>\n    <tr>\n      <th>Appalachian State University</th>\n      <td>State</td>\n      <td>Southern</td>\n      <td>$40,400.00</td>\n      <td>$69,100.00</td>\n    </tr>\n    <tr>\n      <th>Arizona State University (ASU)</th>\n      <td>State</td>\n      <td>Western</td>\n      <td>$47,400.00</td>\n      <td>$84,100.00</td>\n    </tr>\n    <tr>\n      <th>Arizona State University (ASU)</th>\n      <td>Party</td>\n      <td>Western</td>\n      <td>$47,400.00</td>\n      <td>$84,100.00</td>\n    </tr>\n    <tr>\n      <th>Arkansas State University (ASU)</th>\n      <td>State</td>\n      <td>Southern</td>\n      <td>$38,700.00</td>\n      <td>$63,300.00</td>\n    </tr>\n  </tbody>\n</table>\n</div>"
     },
     "metadata": {},
     "execution_count": 172
    }
   ],
   "source": [
    "#Take only the columns that we need from the merged data set and sort it\n",
    "college_region = data1[[\"School Type\", \"Region\", \"Starting Median Salary\", \"Mid-Career Median Salary\"]].sort_values(by=\"School Name\", ascending = True)\n",
    "college_region.head()"
   ]
  },
  {
   "cell_type": "code",
   "execution_count": 180,
   "metadata": {},
   "outputs": [],
   "source": [
    "#This cell exports the data frames that we have into csv files for us to view\n",
    "college_region.to_csv(\"college_region.csv\")\n",
    "major_salary.to_csv(\"major_salary.csv\")"
   ]
  },
  {
   "cell_type": "code",
   "execution_count": 174,
   "metadata": {},
   "outputs": [],
   "source": [
    "#What we need to do now is take the data frames we have and plot out box plots to try and figure out outliers and we should be basically dont with deliverable 2 coding portion\n",
    "#We should look at the exported csv files of the data frames to see if there are any NAN columns and figure out how we handle that"
   ]
  },
  {
   "cell_type": "code",
   "execution_count": null,
   "metadata": {},
   "outputs": [],
   "source": []
  }
 ],
 "metadata": {
  "kernelspec": {
   "display_name": "Python 3",
   "language": "python",
   "name": "python3"
  },
  "language_info": {
   "codemirror_mode": {
    "name": "ipython",
    "version": 3
   },
   "file_extension": ".py",
   "mimetype": "text/x-python",
   "name": "python",
   "nbconvert_exporter": "python",
   "pygments_lexer": "ipython3",
   "version": "3.8.3-final"
  }
 },
 "nbformat": 4,
 "nbformat_minor": 4
}