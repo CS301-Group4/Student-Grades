{
 "cells": [
  {
   "source": [
    "<h1>Question:</h1>\n",
    "<p>How does your major, college, and region affect your graduation salary, and your mid-career salary?</p>"
   ],
   "cell_type": "markdown",
   "metadata": {}
  },
  {
   "cell_type": "code",
   "execution_count": 2,
   "metadata": {},
   "outputs": [],
   "source": [
    "import numpy as np\n",
    "import pandas as pd\n",
    "%matplotlib inline\n",
    "import matplotlib.pyplot as plt"
   ]
  },
  {
   "cell_type": "code",
   "execution_count": null,
   "metadata": {},
   "outputs": [],
   "source": [
    "#Add a Markdown stating we are reading in our csv dataset files into a pandas dataframe"
   ]
  },
  {
   "cell_type": "code",
   "execution_count": 3,
   "metadata": {},
   "outputs": [],
   "source": [
    "#changed path to this because this is what is need to run it off of github\n",
    "#you can uncomment ur path when you are running this code on ur machine\n",
    "\n",
    "# path = 'C:\\\\Users\\\\kalra\\\\Documents\\\\NJIT\\\\Junior\\\\Fall 2020\\\\CS 301\\\\Group Project\\\\'\n",
    "path = \"Kaggle Data Sets/\"      \n",
    "deg_df = pd.read_csv(path + 'degrees-that-pay-back.csv', index_col = 0)\n",
    "salc_df = pd.read_csv(path + 'salaries-by-college-type.csv', index_col = 0)\n",
    "salr_df = pd.read_csv(path + 'salaries-by-region.csv', index_col = 0)"
   ]
  },
  {
   "cell_type": "code",
   "execution_count": null,
   "metadata": {},
   "outputs": [],
   "source": [
    "#Add a markdown stating that we are picking and choosing only the columns we are interested in collecting from Degrees That Pay Back Data Set"
   ]
  },
  {
   "cell_type": "code",
   "execution_count": 4,
   "metadata": {},
   "outputs": [
    {
     "output_type": "execute_result",
     "data": {
      "text/plain": [
       "                      Starting Median Salary Mid-Career Median Salary\n",
       "Undergraduate Major                                                  \n",
       "Accounting                        $46,000.00               $77,100.00\n",
       "Aerospace Engineering             $57,700.00              $101,000.00\n",
       "Agriculture                       $42,600.00               $71,900.00\n",
       "Anthropology                      $36,800.00               $61,500.00\n",
       "Architecture                      $41,600.00               $76,800.00"
      ],
      "text/html": "<div>\n<style scoped>\n    .dataframe tbody tr th:only-of-type {\n        vertical-align: middle;\n    }\n\n    .dataframe tbody tr th {\n        vertical-align: top;\n    }\n\n    .dataframe thead th {\n        text-align: right;\n    }\n</style>\n<table border=\"1\" class=\"dataframe\">\n  <thead>\n    <tr style=\"text-align: right;\">\n      <th></th>\n      <th>Starting Median Salary</th>\n      <th>Mid-Career Median Salary</th>\n    </tr>\n    <tr>\n      <th>Undergraduate Major</th>\n      <th></th>\n      <th></th>\n    </tr>\n  </thead>\n  <tbody>\n    <tr>\n      <th>Accounting</th>\n      <td>$46,000.00</td>\n      <td>$77,100.00</td>\n    </tr>\n    <tr>\n      <th>Aerospace Engineering</th>\n      <td>$57,700.00</td>\n      <td>$101,000.00</td>\n    </tr>\n    <tr>\n      <th>Agriculture</th>\n      <td>$42,600.00</td>\n      <td>$71,900.00</td>\n    </tr>\n    <tr>\n      <th>Anthropology</th>\n      <td>$36,800.00</td>\n      <td>$61,500.00</td>\n    </tr>\n    <tr>\n      <th>Architecture</th>\n      <td>$41,600.00</td>\n      <td>$76,800.00</td>\n    </tr>\n  </tbody>\n</table>\n</div>"
     },
     "metadata": {},
     "execution_count": 4
    }
   ],
   "source": [
    "#This data set contains all the data we need to answer about how your major effects your starting salary and mid career salary\n",
    "major_salary = deg_df[[\"Starting Median Salary\", \"Mid-Career Median Salary\"]]\n",
    "major_salary.head()"
   ]
  },
  {
   "cell_type": "code",
   "execution_count": null,
   "metadata": {},
   "outputs": [],
   "source": [
    "#Add a markdown stating that we are merging the other two data sets together and then choosing only the columns that we need to answer our question"
   ]
  },
  {
   "cell_type": "code",
   "execution_count": 21,
   "metadata": {},
   "outputs": [
    {
     "output_type": "execute_result",
     "data": {
      "text/plain": [
       "                                  School Type        Region  \\\n",
       "School Name                                                   \n",
       "Amherst College                  Liberal Arts  Northeastern   \n",
       "Appalachian State University            State      Southern   \n",
       "Arizona State University (ASU)          State       Western   \n",
       "Arizona State University (ASU)          Party       Western   \n",
       "Arkansas State University (ASU)         State      Southern   \n",
       "\n",
       "                                Starting Median Salary  \\\n",
       "School Name                                              \n",
       "Amherst College                             $54,500.00   \n",
       "Appalachian State University                $40,400.00   \n",
       "Arizona State University (ASU)              $47,400.00   \n",
       "Arizona State University (ASU)              $47,400.00   \n",
       "Arkansas State University (ASU)             $38,700.00   \n",
       "\n",
       "                                Mid-Career Median Salary  \n",
       "School Name                                               \n",
       "Amherst College                              $107,000.00  \n",
       "Appalachian State University                  $69,100.00  \n",
       "Arizona State University (ASU)                $84,100.00  \n",
       "Arizona State University (ASU)                $84,100.00  \n",
       "Arkansas State University (ASU)               $63,300.00  "
      ],
      "text/html": "<div>\n<style scoped>\n    .dataframe tbody tr th:only-of-type {\n        vertical-align: middle;\n    }\n\n    .dataframe tbody tr th {\n        vertical-align: top;\n    }\n\n    .dataframe thead th {\n        text-align: right;\n    }\n</style>\n<table border=\"1\" class=\"dataframe\">\n  <thead>\n    <tr style=\"text-align: right;\">\n      <th></th>\n      <th>School Type</th>\n      <th>Region</th>\n      <th>Starting Median Salary</th>\n      <th>Mid-Career Median Salary</th>\n    </tr>\n    <tr>\n      <th>School Name</th>\n      <th></th>\n      <th></th>\n      <th></th>\n      <th></th>\n    </tr>\n  </thead>\n  <tbody>\n    <tr>\n      <th>Amherst College</th>\n      <td>Liberal Arts</td>\n      <td>Northeastern</td>\n      <td>$54,500.00</td>\n      <td>$107,000.00</td>\n    </tr>\n    <tr>\n      <th>Appalachian State University</th>\n      <td>State</td>\n      <td>Southern</td>\n      <td>$40,400.00</td>\n      <td>$69,100.00</td>\n    </tr>\n    <tr>\n      <th>Arizona State University (ASU)</th>\n      <td>State</td>\n      <td>Western</td>\n      <td>$47,400.00</td>\n      <td>$84,100.00</td>\n    </tr>\n    <tr>\n      <th>Arizona State University (ASU)</th>\n      <td>Party</td>\n      <td>Western</td>\n      <td>$47,400.00</td>\n      <td>$84,100.00</td>\n    </tr>\n    <tr>\n      <th>Arkansas State University (ASU)</th>\n      <td>State</td>\n      <td>Southern</td>\n      <td>$38,700.00</td>\n      <td>$63,300.00</td>\n    </tr>\n  </tbody>\n</table>\n</div>"
     },
     "metadata": {},
     "execution_count": 21
    }
   ],
   "source": [
    "#This cell merges the salary by college and region data set into one data set with no duplicate columns\n",
    "merged_data = pd.merge(salr_df, salc_df, on=\"School Name\", how = \"right\", suffixes = ('', '_y'))\n",
    "merged_data.drop(merged_data.filter(regex='_y$').columns.tolist(),axis=1, inplace=True)\n",
    "merged_data.sort_values(by=\"School Name\", ascending = True)\n",
    "college_region = merged_data[[\"School Type\", \"Region\", \"Starting Median Salary\", \"Mid-Career Median Salary\"]].sort_values(by=\"School Name\", ascending = True)\n",
    "college_region.head()"
   ]
  },
  {
   "cell_type": "code",
   "execution_count": null,
   "metadata": {},
   "outputs": [],
   "source": [
    "#Add a markdown showing that this section of this program is all about the dataframe: major_salary\n",
    "#state that we are formatting the data from string format to float format for easier manipulation in the future"
   ]
  },
  {
   "cell_type": "code",
   "execution_count": 13,
   "metadata": {},
   "outputs": [],
   "source": [
    "for index,row in major_salary.iterrows():\n",
    "    val1 = row['Starting Median Salary']\n",
    "    val1_rep = val1.replace(',', '').replace('$', '')\n",
    "    row['Starting Median Salary'] = val1_rep\n",
    "\n",
    "    val2 = row['Mid-Career Median Salary']\n",
    "    val2_rep = val2.replace(',', '').replace('$', '')\n",
    "    row['Mid-Career Median Salary'] = val2_rep"
   ]
  },
  {
   "cell_type": "code",
   "execution_count": null,
   "metadata": {},
   "outputs": [],
   "source": [
    "#Check for any Not a Number value in the column: Starting Median Salary and replace those with the median values of the column and print out the new data frame, if no NaN exists, then just print out the original dataframe"
   ]
  },
  {
   "cell_type": "code",
   "execution_count": 17,
   "metadata": {},
   "outputs": [
    {
     "output_type": "stream",
     "name": "stdout",
     "text": [
      "                      Starting Median Salary Mid-Career Median Salary\nUndergraduate Major                                                  \nAccounting                          46000.00                 77100.00\nAerospace Engineering               57700.00                101000.00\nAgriculture                         42600.00                 71900.00\nAnthropology                        36800.00                 61500.00\nArchitecture                        41600.00                 76800.00\n"
     ]
    }
   ],
   "source": [
    "nanValues1 = major_salary.loc[(major_salary['Starting Median Salary'].isna())]\n",
    "if len(nanValues1) != 0:\n",
    "    temp = major_salary['Starting Median Salary'].astype(float)\n",
    "    filledSet1 = temp.fillna(temp.median(skipna = True))\n",
    "    print(\"NaN values have been filled in: \\n\", filledSet1.head())\n",
    "else:\n",
    "    print(major_salary.head())"
   ]
  },
  {
   "cell_type": "code",
   "execution_count": null,
   "metadata": {},
   "outputs": [],
   "source": [
    "#Check for any Not a Number value in the column: Mid-Career Median Salary and replace those with the median values of the column and print out the new data frame, if no NaN exists, then just print out the original dataframe"
   ]
  },
  {
   "cell_type": "code",
   "execution_count": 18,
   "metadata": {},
   "outputs": [
    {
     "output_type": "stream",
     "name": "stdout",
     "text": [
      "                      Starting Median Salary Mid-Career Median Salary\nUndergraduate Major                                                  \nAccounting                          46000.00                 77100.00\nAerospace Engineering               57700.00                101000.00\nAgriculture                         42600.00                 71900.00\nAnthropology                        36800.00                 61500.00\nArchitecture                        41600.00                 76800.00\n"
     ]
    }
   ],
   "source": [
    "nanValues1 = major_salary.loc[(major_salary['Mid-Career Median Salary'].isna())]\n",
    "if len(nanValues1) != 0:\n",
    "    temp = major_salary['Mid-Career Median Salary'].astype(float)\n",
    "    filledSet1 = temp.fillna(temp.median(skipna = True))\n",
    "    print(\"NaN values have been filled in: \\n\", filledSet1.head())\n",
    "else:\n",
    "    print(major_salary.head())"
   ]
  },
  {
   "cell_type": "code",
   "execution_count": null,
   "metadata": {},
   "outputs": [],
   "source": [
    "#Create a Box Plot to visualize the spread of the data from the columns: Starting Median Salary and Mid-Career Median Salary"
   ]
  },
  {
   "cell_type": "code",
   "execution_count": 19,
   "metadata": {},
   "outputs": [
    {
     "output_type": "display_data",
     "data": {
      "text/plain": "<Figure size 1080x720 with 1 Axes>",
      "image/svg+xml": "<?xml version=\"1.0\" encoding=\"utf-8\" standalone=\"no\"?>\n<!DOCTYPE svg PUBLIC \"-//W3C//DTD SVG 1.1//EN\"\n  \"http://www.w3.org/Graphics/SVG/1.1/DTD/svg11.dtd\">\n<!-- Created with matplotlib (https://matplotlib.org/) -->\n<svg height=\"603.474375pt\" version=\"1.1\" viewBox=\"0 0 910.253125 603.474375\" width=\"910.253125pt\" xmlns=\"http://www.w3.org/2000/svg\" xmlns:xlink=\"http://www.w3.org/1999/xlink\">\n <defs>\n  <style type=\"text/css\">\n*{stroke-linecap:butt;stroke-linejoin:round;}\n  </style>\n </defs>\n <g id=\"figure_1\">\n  <g id=\"patch_1\">\n   <path d=\"M 0 603.474375 \nL 910.253125 603.474375 \nL 910.253125 0 \nL 0 0 \nz\n\" style=\"fill:none;\"/>\n  </g>\n  <g id=\"axes_1\">\n   <g id=\"patch_2\">\n    <path d=\"M 66.053125 565.918125 \nL 903.053125 565.918125 \nL 903.053125 22.318125 \nL 66.053125 22.318125 \nz\n\" style=\"fill:#ffffff;\"/>\n   </g>\n   <g id=\"matplotlib.axis_1\">\n    <g id=\"xtick_1\">\n     <g id=\"line2d_1\">\n      <defs>\n       <path d=\"M 0 0 \nL 0 3.5 \n\" id=\"m12615c717f\" style=\"stroke:#000000;stroke-width:0.8;\"/>\n      </defs>\n      <g>\n       <use style=\"stroke:#000000;stroke-width:0.8;\" x=\"275.303125\" xlink:href=\"#m12615c717f\" y=\"565.918125\"/>\n      </g>\n     </g>\n     <g id=\"text_1\">\n      <!-- Starting Median Salary -->\n      <defs>\n       <path d=\"M 53.515625 70.515625 \nL 53.515625 60.890625 \nQ 47.90625 63.578125 42.921875 64.890625 \nQ 37.9375 66.21875 33.296875 66.21875 \nQ 25.25 66.21875 20.875 63.09375 \nQ 16.5 59.96875 16.5 54.203125 \nQ 16.5 49.359375 19.40625 46.890625 \nQ 22.3125 44.4375 30.421875 42.921875 \nL 36.375 41.703125 \nQ 47.40625 39.59375 52.65625 34.296875 \nQ 57.90625 29 57.90625 20.125 \nQ 57.90625 9.515625 50.796875 4.046875 \nQ 43.703125 -1.421875 29.984375 -1.421875 \nQ 24.8125 -1.421875 18.96875 -0.25 \nQ 13.140625 0.921875 6.890625 3.21875 \nL 6.890625 13.375 \nQ 12.890625 10.015625 18.65625 8.296875 \nQ 24.421875 6.59375 29.984375 6.59375 \nQ 38.421875 6.59375 43.015625 9.90625 \nQ 47.609375 13.234375 47.609375 19.390625 \nQ 47.609375 24.75 44.3125 27.78125 \nQ 41.015625 30.8125 33.5 32.328125 \nL 27.484375 33.5 \nQ 16.453125 35.6875 11.515625 40.375 \nQ 6.59375 45.0625 6.59375 53.421875 \nQ 6.59375 63.09375 13.40625 68.65625 \nQ 20.21875 74.21875 32.171875 74.21875 \nQ 37.3125 74.21875 42.625 73.28125 \nQ 47.953125 72.359375 53.515625 70.515625 \nz\n\" id=\"DejaVuSans-83\"/>\n       <path d=\"M 18.3125 70.21875 \nL 18.3125 54.6875 \nL 36.8125 54.6875 \nL 36.8125 47.703125 \nL 18.3125 47.703125 \nL 18.3125 18.015625 \nQ 18.3125 11.328125 20.140625 9.421875 \nQ 21.96875 7.515625 27.59375 7.515625 \nL 36.8125 7.515625 \nL 36.8125 0 \nL 27.59375 0 \nQ 17.1875 0 13.234375 3.875 \nQ 9.28125 7.765625 9.28125 18.015625 \nL 9.28125 47.703125 \nL 2.6875 47.703125 \nL 2.6875 54.6875 \nL 9.28125 54.6875 \nL 9.28125 70.21875 \nz\n\" id=\"DejaVuSans-116\"/>\n       <path d=\"M 34.28125 27.484375 \nQ 23.390625 27.484375 19.1875 25 \nQ 14.984375 22.515625 14.984375 16.5 \nQ 14.984375 11.71875 18.140625 8.90625 \nQ 21.296875 6.109375 26.703125 6.109375 \nQ 34.1875 6.109375 38.703125 11.40625 \nQ 43.21875 16.703125 43.21875 25.484375 \nL 43.21875 27.484375 \nz\nM 52.203125 31.203125 \nL 52.203125 0 \nL 43.21875 0 \nL 43.21875 8.296875 \nQ 40.140625 3.328125 35.546875 0.953125 \nQ 30.953125 -1.421875 24.3125 -1.421875 \nQ 15.921875 -1.421875 10.953125 3.296875 \nQ 6 8.015625 6 15.921875 \nQ 6 25.140625 12.171875 29.828125 \nQ 18.359375 34.515625 30.609375 34.515625 \nL 43.21875 34.515625 \nL 43.21875 35.40625 \nQ 43.21875 41.609375 39.140625 45 \nQ 35.0625 48.390625 27.6875 48.390625 \nQ 23 48.390625 18.546875 47.265625 \nQ 14.109375 46.140625 10.015625 43.890625 \nL 10.015625 52.203125 \nQ 14.9375 54.109375 19.578125 55.046875 \nQ 24.21875 56 28.609375 56 \nQ 40.484375 56 46.34375 49.84375 \nQ 52.203125 43.703125 52.203125 31.203125 \nz\n\" id=\"DejaVuSans-97\"/>\n       <path d=\"M 41.109375 46.296875 \nQ 39.59375 47.171875 37.8125 47.578125 \nQ 36.03125 48 33.890625 48 \nQ 26.265625 48 22.1875 43.046875 \nQ 18.109375 38.09375 18.109375 28.8125 \nL 18.109375 0 \nL 9.078125 0 \nL 9.078125 54.6875 \nL 18.109375 54.6875 \nL 18.109375 46.1875 \nQ 20.953125 51.171875 25.484375 53.578125 \nQ 30.03125 56 36.53125 56 \nQ 37.453125 56 38.578125 55.875 \nQ 39.703125 55.765625 41.0625 55.515625 \nz\n\" id=\"DejaVuSans-114\"/>\n       <path d=\"M 9.421875 54.6875 \nL 18.40625 54.6875 \nL 18.40625 0 \nL 9.421875 0 \nz\nM 9.421875 75.984375 \nL 18.40625 75.984375 \nL 18.40625 64.59375 \nL 9.421875 64.59375 \nz\n\" id=\"DejaVuSans-105\"/>\n       <path d=\"M 54.890625 33.015625 \nL 54.890625 0 \nL 45.90625 0 \nL 45.90625 32.71875 \nQ 45.90625 40.484375 42.875 44.328125 \nQ 39.84375 48.1875 33.796875 48.1875 \nQ 26.515625 48.1875 22.3125 43.546875 \nQ 18.109375 38.921875 18.109375 30.90625 \nL 18.109375 0 \nL 9.078125 0 \nL 9.078125 54.6875 \nL 18.109375 54.6875 \nL 18.109375 46.1875 \nQ 21.34375 51.125 25.703125 53.5625 \nQ 30.078125 56 35.796875 56 \nQ 45.21875 56 50.046875 50.171875 \nQ 54.890625 44.34375 54.890625 33.015625 \nz\n\" id=\"DejaVuSans-110\"/>\n       <path d=\"M 45.40625 27.984375 \nQ 45.40625 37.75 41.375 43.109375 \nQ 37.359375 48.484375 30.078125 48.484375 \nQ 22.859375 48.484375 18.828125 43.109375 \nQ 14.796875 37.75 14.796875 27.984375 \nQ 14.796875 18.265625 18.828125 12.890625 \nQ 22.859375 7.515625 30.078125 7.515625 \nQ 37.359375 7.515625 41.375 12.890625 \nQ 45.40625 18.265625 45.40625 27.984375 \nz\nM 54.390625 6.78125 \nQ 54.390625 -7.171875 48.1875 -13.984375 \nQ 42 -20.796875 29.203125 -20.796875 \nQ 24.46875 -20.796875 20.265625 -20.09375 \nQ 16.0625 -19.390625 12.109375 -17.921875 \nL 12.109375 -9.1875 \nQ 16.0625 -11.328125 19.921875 -12.34375 \nQ 23.78125 -13.375 27.78125 -13.375 \nQ 36.625 -13.375 41.015625 -8.765625 \nQ 45.40625 -4.15625 45.40625 5.171875 \nL 45.40625 9.625 \nQ 42.625 4.78125 38.28125 2.390625 \nQ 33.9375 0 27.875 0 \nQ 17.828125 0 11.671875 7.65625 \nQ 5.515625 15.328125 5.515625 27.984375 \nQ 5.515625 40.671875 11.671875 48.328125 \nQ 17.828125 56 27.875 56 \nQ 33.9375 56 38.28125 53.609375 \nQ 42.625 51.21875 45.40625 46.390625 \nL 45.40625 54.6875 \nL 54.390625 54.6875 \nz\n\" id=\"DejaVuSans-103\"/>\n       <path id=\"DejaVuSans-32\"/>\n       <path d=\"M 9.8125 72.90625 \nL 24.515625 72.90625 \nL 43.109375 23.296875 \nL 61.8125 72.90625 \nL 76.515625 72.90625 \nL 76.515625 0 \nL 66.890625 0 \nL 66.890625 64.015625 \nL 48.09375 14.015625 \nL 38.1875 14.015625 \nL 19.390625 64.015625 \nL 19.390625 0 \nL 9.8125 0 \nz\n\" id=\"DejaVuSans-77\"/>\n       <path d=\"M 56.203125 29.59375 \nL 56.203125 25.203125 \nL 14.890625 25.203125 \nQ 15.484375 15.921875 20.484375 11.0625 \nQ 25.484375 6.203125 34.421875 6.203125 \nQ 39.59375 6.203125 44.453125 7.46875 \nQ 49.3125 8.734375 54.109375 11.28125 \nL 54.109375 2.78125 \nQ 49.265625 0.734375 44.1875 -0.34375 \nQ 39.109375 -1.421875 33.890625 -1.421875 \nQ 20.796875 -1.421875 13.15625 6.1875 \nQ 5.515625 13.8125 5.515625 26.8125 \nQ 5.515625 40.234375 12.765625 48.109375 \nQ 20.015625 56 32.328125 56 \nQ 43.359375 56 49.78125 48.890625 \nQ 56.203125 41.796875 56.203125 29.59375 \nz\nM 47.21875 32.234375 \nQ 47.125 39.59375 43.09375 43.984375 \nQ 39.0625 48.390625 32.421875 48.390625 \nQ 24.90625 48.390625 20.390625 44.140625 \nQ 15.875 39.890625 15.1875 32.171875 \nz\n\" id=\"DejaVuSans-101\"/>\n       <path d=\"M 45.40625 46.390625 \nL 45.40625 75.984375 \nL 54.390625 75.984375 \nL 54.390625 0 \nL 45.40625 0 \nL 45.40625 8.203125 \nQ 42.578125 3.328125 38.25 0.953125 \nQ 33.9375 -1.421875 27.875 -1.421875 \nQ 17.96875 -1.421875 11.734375 6.484375 \nQ 5.515625 14.40625 5.515625 27.296875 \nQ 5.515625 40.1875 11.734375 48.09375 \nQ 17.96875 56 27.875 56 \nQ 33.9375 56 38.25 53.625 \nQ 42.578125 51.265625 45.40625 46.390625 \nz\nM 14.796875 27.296875 \nQ 14.796875 17.390625 18.875 11.75 \nQ 22.953125 6.109375 30.078125 6.109375 \nQ 37.203125 6.109375 41.296875 11.75 \nQ 45.40625 17.390625 45.40625 27.296875 \nQ 45.40625 37.203125 41.296875 42.84375 \nQ 37.203125 48.484375 30.078125 48.484375 \nQ 22.953125 48.484375 18.875 42.84375 \nQ 14.796875 37.203125 14.796875 27.296875 \nz\n\" id=\"DejaVuSans-100\"/>\n       <path d=\"M 9.421875 75.984375 \nL 18.40625 75.984375 \nL 18.40625 0 \nL 9.421875 0 \nz\n\" id=\"DejaVuSans-108\"/>\n       <path d=\"M 32.171875 -5.078125 \nQ 28.375 -14.84375 24.75 -17.8125 \nQ 21.140625 -20.796875 15.09375 -20.796875 \nL 7.90625 -20.796875 \nL 7.90625 -13.28125 \nL 13.1875 -13.28125 \nQ 16.890625 -13.28125 18.9375 -11.515625 \nQ 21 -9.765625 23.484375 -3.21875 \nL 25.09375 0.875 \nL 2.984375 54.6875 \nL 12.5 54.6875 \nL 29.59375 11.921875 \nL 46.6875 54.6875 \nL 56.203125 54.6875 \nz\n\" id=\"DejaVuSans-121\"/>\n      </defs>\n      <g transform=\"translate(218.285938 580.516562)scale(0.1 -0.1)\">\n       <use xlink:href=\"#DejaVuSans-83\"/>\n       <use x=\"63.476562\" xlink:href=\"#DejaVuSans-116\"/>\n       <use x=\"102.685547\" xlink:href=\"#DejaVuSans-97\"/>\n       <use x=\"163.964844\" xlink:href=\"#DejaVuSans-114\"/>\n       <use x=\"205.078125\" xlink:href=\"#DejaVuSans-116\"/>\n       <use x=\"244.287109\" xlink:href=\"#DejaVuSans-105\"/>\n       <use x=\"272.070312\" xlink:href=\"#DejaVuSans-110\"/>\n       <use x=\"335.449219\" xlink:href=\"#DejaVuSans-103\"/>\n       <use x=\"398.925781\" xlink:href=\"#DejaVuSans-32\"/>\n       <use x=\"430.712891\" xlink:href=\"#DejaVuSans-77\"/>\n       <use x=\"516.992188\" xlink:href=\"#DejaVuSans-101\"/>\n       <use x=\"578.515625\" xlink:href=\"#DejaVuSans-100\"/>\n       <use x=\"641.992188\" xlink:href=\"#DejaVuSans-105\"/>\n       <use x=\"669.775391\" xlink:href=\"#DejaVuSans-97\"/>\n       <use x=\"731.054688\" xlink:href=\"#DejaVuSans-110\"/>\n       <use x=\"794.433594\" xlink:href=\"#DejaVuSans-32\"/>\n       <use x=\"826.220703\" xlink:href=\"#DejaVuSans-83\"/>\n       <use x=\"889.697266\" xlink:href=\"#DejaVuSans-97\"/>\n       <use x=\"950.976562\" xlink:href=\"#DejaVuSans-108\"/>\n       <use x=\"978.759766\" xlink:href=\"#DejaVuSans-97\"/>\n       <use x=\"1040.039062\" xlink:href=\"#DejaVuSans-114\"/>\n       <use x=\"1081.152344\" xlink:href=\"#DejaVuSans-121\"/>\n      </g>\n     </g>\n    </g>\n    <g id=\"xtick_2\">\n     <g id=\"line2d_2\">\n      <g>\n       <use style=\"stroke:#000000;stroke-width:0.8;\" x=\"693.803125\" xlink:href=\"#m12615c717f\" y=\"565.918125\"/>\n      </g>\n     </g>\n     <g id=\"text_2\">\n      <!-- Mid-Career Median Salary -->\n      <defs>\n       <path d=\"M 4.890625 31.390625 \nL 31.203125 31.390625 \nL 31.203125 23.390625 \nL 4.890625 23.390625 \nz\n\" id=\"DejaVuSans-45\"/>\n       <path d=\"M 64.40625 67.28125 \nL 64.40625 56.890625 \nQ 59.421875 61.53125 53.78125 63.8125 \nQ 48.140625 66.109375 41.796875 66.109375 \nQ 29.296875 66.109375 22.65625 58.46875 \nQ 16.015625 50.828125 16.015625 36.375 \nQ 16.015625 21.96875 22.65625 14.328125 \nQ 29.296875 6.6875 41.796875 6.6875 \nQ 48.140625 6.6875 53.78125 8.984375 \nQ 59.421875 11.28125 64.40625 15.921875 \nL 64.40625 5.609375 \nQ 59.234375 2.09375 53.4375 0.328125 \nQ 47.65625 -1.421875 41.21875 -1.421875 \nQ 24.65625 -1.421875 15.125 8.703125 \nQ 5.609375 18.84375 5.609375 36.375 \nQ 5.609375 53.953125 15.125 64.078125 \nQ 24.65625 74.21875 41.21875 74.21875 \nQ 47.75 74.21875 53.53125 72.484375 \nQ 59.328125 70.75 64.40625 67.28125 \nz\n\" id=\"DejaVuSans-67\"/>\n      </defs>\n      <g transform=\"translate(629.34375 580.516562)scale(0.1 -0.1)\">\n       <use xlink:href=\"#DejaVuSans-77\"/>\n       <use x=\"86.279297\" xlink:href=\"#DejaVuSans-105\"/>\n       <use x=\"114.0625\" xlink:href=\"#DejaVuSans-100\"/>\n       <use x=\"177.539062\" xlink:href=\"#DejaVuSans-45\"/>\n       <use x=\"213.623047\" xlink:href=\"#DejaVuSans-67\"/>\n       <use x=\"283.447266\" xlink:href=\"#DejaVuSans-97\"/>\n       <use x=\"344.726562\" xlink:href=\"#DejaVuSans-114\"/>\n       <use x=\"383.589844\" xlink:href=\"#DejaVuSans-101\"/>\n       <use x=\"445.113281\" xlink:href=\"#DejaVuSans-101\"/>\n       <use x=\"506.636719\" xlink:href=\"#DejaVuSans-114\"/>\n       <use x=\"547.75\" xlink:href=\"#DejaVuSans-32\"/>\n       <use x=\"579.537109\" xlink:href=\"#DejaVuSans-77\"/>\n       <use x=\"665.816406\" xlink:href=\"#DejaVuSans-101\"/>\n       <use x=\"727.339844\" xlink:href=\"#DejaVuSans-100\"/>\n       <use x=\"790.816406\" xlink:href=\"#DejaVuSans-105\"/>\n       <use x=\"818.599609\" xlink:href=\"#DejaVuSans-97\"/>\n       <use x=\"879.878906\" xlink:href=\"#DejaVuSans-110\"/>\n       <use x=\"943.257812\" xlink:href=\"#DejaVuSans-32\"/>\n       <use x=\"975.044922\" xlink:href=\"#DejaVuSans-83\"/>\n       <use x=\"1038.521484\" xlink:href=\"#DejaVuSans-97\"/>\n       <use x=\"1099.800781\" xlink:href=\"#DejaVuSans-108\"/>\n       <use x=\"1127.583984\" xlink:href=\"#DejaVuSans-97\"/>\n       <use x=\"1188.863281\" xlink:href=\"#DejaVuSans-114\"/>\n       <use x=\"1229.976562\" xlink:href=\"#DejaVuSans-121\"/>\n      </g>\n     </g>\n    </g>\n    <g id=\"text_3\">\n     <!-- Career Median Salary -->\n     <g transform=\"translate(430.775 594.194687)scale(0.1 -0.1)\">\n      <use xlink:href=\"#DejaVuSans-67\"/>\n      <use x=\"69.824219\" xlink:href=\"#DejaVuSans-97\"/>\n      <use x=\"131.103516\" xlink:href=\"#DejaVuSans-114\"/>\n      <use x=\"169.966797\" xlink:href=\"#DejaVuSans-101\"/>\n      <use x=\"231.490234\" xlink:href=\"#DejaVuSans-101\"/>\n      <use x=\"293.013672\" xlink:href=\"#DejaVuSans-114\"/>\n      <use x=\"334.126953\" xlink:href=\"#DejaVuSans-32\"/>\n      <use x=\"365.914062\" xlink:href=\"#DejaVuSans-77\"/>\n      <use x=\"452.193359\" xlink:href=\"#DejaVuSans-101\"/>\n      <use x=\"513.716797\" xlink:href=\"#DejaVuSans-100\"/>\n      <use x=\"577.193359\" xlink:href=\"#DejaVuSans-105\"/>\n      <use x=\"604.976562\" xlink:href=\"#DejaVuSans-97\"/>\n      <use x=\"666.255859\" xlink:href=\"#DejaVuSans-110\"/>\n      <use x=\"729.634766\" xlink:href=\"#DejaVuSans-32\"/>\n      <use x=\"761.421875\" xlink:href=\"#DejaVuSans-83\"/>\n      <use x=\"824.898438\" xlink:href=\"#DejaVuSans-97\"/>\n      <use x=\"886.177734\" xlink:href=\"#DejaVuSans-108\"/>\n      <use x=\"913.960938\" xlink:href=\"#DejaVuSans-97\"/>\n      <use x=\"975.240234\" xlink:href=\"#DejaVuSans-114\"/>\n      <use x=\"1016.353516\" xlink:href=\"#DejaVuSans-121\"/>\n     </g>\n    </g>\n   </g>\n   <g id=\"matplotlib.axis_2\">\n    <g id=\"ytick_1\">\n     <g id=\"line2d_3\">\n      <defs>\n       <path d=\"M 0 0 \nL -3.5 0 \n\" id=\"m0825fa7274\" style=\"stroke:#000000;stroke-width:0.8;\"/>\n      </defs>\n      <g>\n       <use style=\"stroke:#000000;stroke-width:0.8;\" x=\"66.053125\" xlink:href=\"#m0825fa7274\" y=\"500.59135\"/>\n      </g>\n     </g>\n     <g id=\"text_4\">\n      <!-- 40000 -->\n      <defs>\n       <path d=\"M 37.796875 64.3125 \nL 12.890625 25.390625 \nL 37.796875 25.390625 \nz\nM 35.203125 72.90625 \nL 47.609375 72.90625 \nL 47.609375 25.390625 \nL 58.015625 25.390625 \nL 58.015625 17.1875 \nL 47.609375 17.1875 \nL 47.609375 0 \nL 37.796875 0 \nL 37.796875 17.1875 \nL 4.890625 17.1875 \nL 4.890625 26.703125 \nz\n\" id=\"DejaVuSans-52\"/>\n       <path d=\"M 31.78125 66.40625 \nQ 24.171875 66.40625 20.328125 58.90625 \nQ 16.5 51.421875 16.5 36.375 \nQ 16.5 21.390625 20.328125 13.890625 \nQ 24.171875 6.390625 31.78125 6.390625 \nQ 39.453125 6.390625 43.28125 13.890625 \nQ 47.125 21.390625 47.125 36.375 \nQ 47.125 51.421875 43.28125 58.90625 \nQ 39.453125 66.40625 31.78125 66.40625 \nz\nM 31.78125 74.21875 \nQ 44.046875 74.21875 50.515625 64.515625 \nQ 56.984375 54.828125 56.984375 36.375 \nQ 56.984375 17.96875 50.515625 8.265625 \nQ 44.046875 -1.421875 31.78125 -1.421875 \nQ 19.53125 -1.421875 13.0625 8.265625 \nQ 6.59375 17.96875 6.59375 36.375 \nQ 6.59375 54.828125 13.0625 64.515625 \nQ 19.53125 74.21875 31.78125 74.21875 \nz\n\" id=\"DejaVuSans-48\"/>\n      </defs>\n      <g transform=\"translate(27.240625 504.390569)scale(0.1 -0.1)\">\n       <use xlink:href=\"#DejaVuSans-52\"/>\n       <use x=\"63.623047\" xlink:href=\"#DejaVuSans-48\"/>\n       <use x=\"127.246094\" xlink:href=\"#DejaVuSans-48\"/>\n       <use x=\"190.869141\" xlink:href=\"#DejaVuSans-48\"/>\n       <use x=\"254.492188\" xlink:href=\"#DejaVuSans-48\"/>\n      </g>\n     </g>\n    </g>\n    <g id=\"ytick_2\">\n     <g id=\"line2d_4\">\n      <g>\n       <use style=\"stroke:#000000;stroke-width:0.8;\" x=\"66.053125\" xlink:href=\"#m0825fa7274\" y=\"432.895211\"/>\n      </g>\n     </g>\n     <g id=\"text_5\">\n      <!-- 50000 -->\n      <defs>\n       <path d=\"M 10.796875 72.90625 \nL 49.515625 72.90625 \nL 49.515625 64.59375 \nL 19.828125 64.59375 \nL 19.828125 46.734375 \nQ 21.96875 47.46875 24.109375 47.828125 \nQ 26.265625 48.1875 28.421875 48.1875 \nQ 40.625 48.1875 47.75 41.5 \nQ 54.890625 34.8125 54.890625 23.390625 \nQ 54.890625 11.625 47.5625 5.09375 \nQ 40.234375 -1.421875 26.90625 -1.421875 \nQ 22.3125 -1.421875 17.546875 -0.640625 \nQ 12.796875 0.140625 7.71875 1.703125 \nL 7.71875 11.625 \nQ 12.109375 9.234375 16.796875 8.0625 \nQ 21.484375 6.890625 26.703125 6.890625 \nQ 35.15625 6.890625 40.078125 11.328125 \nQ 45.015625 15.765625 45.015625 23.390625 \nQ 45.015625 31 40.078125 35.4375 \nQ 35.15625 39.890625 26.703125 39.890625 \nQ 22.75 39.890625 18.8125 39.015625 \nQ 14.890625 38.140625 10.796875 36.28125 \nz\n\" id=\"DejaVuSans-53\"/>\n      </defs>\n      <g transform=\"translate(27.240625 436.69443)scale(0.1 -0.1)\">\n       <use xlink:href=\"#DejaVuSans-53\"/>\n       <use x=\"63.623047\" xlink:href=\"#DejaVuSans-48\"/>\n       <use x=\"127.246094\" xlink:href=\"#DejaVuSans-48\"/>\n       <use x=\"190.869141\" xlink:href=\"#DejaVuSans-48\"/>\n       <use x=\"254.492188\" xlink:href=\"#DejaVuSans-48\"/>\n      </g>\n     </g>\n    </g>\n    <g id=\"ytick_3\">\n     <g id=\"line2d_5\">\n      <g>\n       <use style=\"stroke:#000000;stroke-width:0.8;\" x=\"66.053125\" xlink:href=\"#m0825fa7274\" y=\"365.199071\"/>\n      </g>\n     </g>\n     <g id=\"text_6\">\n      <!-- 60000 -->\n      <defs>\n       <path d=\"M 33.015625 40.375 \nQ 26.375 40.375 22.484375 35.828125 \nQ 18.609375 31.296875 18.609375 23.390625 \nQ 18.609375 15.53125 22.484375 10.953125 \nQ 26.375 6.390625 33.015625 6.390625 \nQ 39.65625 6.390625 43.53125 10.953125 \nQ 47.40625 15.53125 47.40625 23.390625 \nQ 47.40625 31.296875 43.53125 35.828125 \nQ 39.65625 40.375 33.015625 40.375 \nz\nM 52.59375 71.296875 \nL 52.59375 62.3125 \nQ 48.875 64.0625 45.09375 64.984375 \nQ 41.3125 65.921875 37.59375 65.921875 \nQ 27.828125 65.921875 22.671875 59.328125 \nQ 17.53125 52.734375 16.796875 39.40625 \nQ 19.671875 43.65625 24.015625 45.921875 \nQ 28.375 48.1875 33.59375 48.1875 \nQ 44.578125 48.1875 50.953125 41.515625 \nQ 57.328125 34.859375 57.328125 23.390625 \nQ 57.328125 12.15625 50.6875 5.359375 \nQ 44.046875 -1.421875 33.015625 -1.421875 \nQ 20.359375 -1.421875 13.671875 8.265625 \nQ 6.984375 17.96875 6.984375 36.375 \nQ 6.984375 53.65625 15.1875 63.9375 \nQ 23.390625 74.21875 37.203125 74.21875 \nQ 40.921875 74.21875 44.703125 73.484375 \nQ 48.484375 72.75 52.59375 71.296875 \nz\n\" id=\"DejaVuSans-54\"/>\n      </defs>\n      <g transform=\"translate(27.240625 368.99829)scale(0.1 -0.1)\">\n       <use xlink:href=\"#DejaVuSans-54\"/>\n       <use x=\"63.623047\" xlink:href=\"#DejaVuSans-48\"/>\n       <use x=\"127.246094\" xlink:href=\"#DejaVuSans-48\"/>\n       <use x=\"190.869141\" xlink:href=\"#DejaVuSans-48\"/>\n       <use x=\"254.492188\" xlink:href=\"#DejaVuSans-48\"/>\n      </g>\n     </g>\n    </g>\n    <g id=\"ytick_4\">\n     <g id=\"line2d_6\">\n      <g>\n       <use style=\"stroke:#000000;stroke-width:0.8;\" x=\"66.053125\" xlink:href=\"#m0825fa7274\" y=\"297.502932\"/>\n      </g>\n     </g>\n     <g id=\"text_7\">\n      <!-- 70000 -->\n      <defs>\n       <path d=\"M 8.203125 72.90625 \nL 55.078125 72.90625 \nL 55.078125 68.703125 \nL 28.609375 0 \nL 18.3125 0 \nL 43.21875 64.59375 \nL 8.203125 64.59375 \nz\n\" id=\"DejaVuSans-55\"/>\n      </defs>\n      <g transform=\"translate(27.240625 301.302151)scale(0.1 -0.1)\">\n       <use xlink:href=\"#DejaVuSans-55\"/>\n       <use x=\"63.623047\" xlink:href=\"#DejaVuSans-48\"/>\n       <use x=\"127.246094\" xlink:href=\"#DejaVuSans-48\"/>\n       <use x=\"190.869141\" xlink:href=\"#DejaVuSans-48\"/>\n       <use x=\"254.492188\" xlink:href=\"#DejaVuSans-48\"/>\n      </g>\n     </g>\n    </g>\n    <g id=\"ytick_5\">\n     <g id=\"line2d_7\">\n      <g>\n       <use style=\"stroke:#000000;stroke-width:0.8;\" x=\"66.053125\" xlink:href=\"#m0825fa7274\" y=\"229.806792\"/>\n      </g>\n     </g>\n     <g id=\"text_8\">\n      <!-- 80000 -->\n      <defs>\n       <path d=\"M 31.78125 34.625 \nQ 24.75 34.625 20.71875 30.859375 \nQ 16.703125 27.09375 16.703125 20.515625 \nQ 16.703125 13.921875 20.71875 10.15625 \nQ 24.75 6.390625 31.78125 6.390625 \nQ 38.8125 6.390625 42.859375 10.171875 \nQ 46.921875 13.96875 46.921875 20.515625 \nQ 46.921875 27.09375 42.890625 30.859375 \nQ 38.875 34.625 31.78125 34.625 \nz\nM 21.921875 38.8125 \nQ 15.578125 40.375 12.03125 44.71875 \nQ 8.5 49.078125 8.5 55.328125 \nQ 8.5 64.0625 14.71875 69.140625 \nQ 20.953125 74.21875 31.78125 74.21875 \nQ 42.671875 74.21875 48.875 69.140625 \nQ 55.078125 64.0625 55.078125 55.328125 \nQ 55.078125 49.078125 51.53125 44.71875 \nQ 48 40.375 41.703125 38.8125 \nQ 48.828125 37.15625 52.796875 32.3125 \nQ 56.78125 27.484375 56.78125 20.515625 \nQ 56.78125 9.90625 50.3125 4.234375 \nQ 43.84375 -1.421875 31.78125 -1.421875 \nQ 19.734375 -1.421875 13.25 4.234375 \nQ 6.78125 9.90625 6.78125 20.515625 \nQ 6.78125 27.484375 10.78125 32.3125 \nQ 14.796875 37.15625 21.921875 38.8125 \nz\nM 18.3125 54.390625 \nQ 18.3125 48.734375 21.84375 45.5625 \nQ 25.390625 42.390625 31.78125 42.390625 \nQ 38.140625 42.390625 41.71875 45.5625 \nQ 45.3125 48.734375 45.3125 54.390625 \nQ 45.3125 60.0625 41.71875 63.234375 \nQ 38.140625 66.40625 31.78125 66.40625 \nQ 25.390625 66.40625 21.84375 63.234375 \nQ 18.3125 60.0625 18.3125 54.390625 \nz\n\" id=\"DejaVuSans-56\"/>\n      </defs>\n      <g transform=\"translate(27.240625 233.606011)scale(0.1 -0.1)\">\n       <use xlink:href=\"#DejaVuSans-56\"/>\n       <use x=\"63.623047\" xlink:href=\"#DejaVuSans-48\"/>\n       <use x=\"127.246094\" xlink:href=\"#DejaVuSans-48\"/>\n       <use x=\"190.869141\" xlink:href=\"#DejaVuSans-48\"/>\n       <use x=\"254.492188\" xlink:href=\"#DejaVuSans-48\"/>\n      </g>\n     </g>\n    </g>\n    <g id=\"ytick_6\">\n     <g id=\"line2d_8\">\n      <g>\n       <use style=\"stroke:#000000;stroke-width:0.8;\" x=\"66.053125\" xlink:href=\"#m0825fa7274\" y=\"162.110653\"/>\n      </g>\n     </g>\n     <g id=\"text_9\">\n      <!-- 90000 -->\n      <defs>\n       <path d=\"M 10.984375 1.515625 \nL 10.984375 10.5 \nQ 14.703125 8.734375 18.5 7.8125 \nQ 22.3125 6.890625 25.984375 6.890625 \nQ 35.75 6.890625 40.890625 13.453125 \nQ 46.046875 20.015625 46.78125 33.40625 \nQ 43.953125 29.203125 39.59375 26.953125 \nQ 35.25 24.703125 29.984375 24.703125 \nQ 19.046875 24.703125 12.671875 31.3125 \nQ 6.296875 37.9375 6.296875 49.421875 \nQ 6.296875 60.640625 12.9375 67.421875 \nQ 19.578125 74.21875 30.609375 74.21875 \nQ 43.265625 74.21875 49.921875 64.515625 \nQ 56.59375 54.828125 56.59375 36.375 \nQ 56.59375 19.140625 48.40625 8.859375 \nQ 40.234375 -1.421875 26.421875 -1.421875 \nQ 22.703125 -1.421875 18.890625 -0.6875 \nQ 15.09375 0.046875 10.984375 1.515625 \nz\nM 30.609375 32.421875 \nQ 37.25 32.421875 41.125 36.953125 \nQ 45.015625 41.5 45.015625 49.421875 \nQ 45.015625 57.28125 41.125 61.84375 \nQ 37.25 66.40625 30.609375 66.40625 \nQ 23.96875 66.40625 20.09375 61.84375 \nQ 16.21875 57.28125 16.21875 49.421875 \nQ 16.21875 41.5 20.09375 36.953125 \nQ 23.96875 32.421875 30.609375 32.421875 \nz\n\" id=\"DejaVuSans-57\"/>\n      </defs>\n      <g transform=\"translate(27.240625 165.909872)scale(0.1 -0.1)\">\n       <use xlink:href=\"#DejaVuSans-57\"/>\n       <use x=\"63.623047\" xlink:href=\"#DejaVuSans-48\"/>\n       <use x=\"127.246094\" xlink:href=\"#DejaVuSans-48\"/>\n       <use x=\"190.869141\" xlink:href=\"#DejaVuSans-48\"/>\n       <use x=\"254.492188\" xlink:href=\"#DejaVuSans-48\"/>\n      </g>\n     </g>\n    </g>\n    <g id=\"ytick_7\">\n     <g id=\"line2d_9\">\n      <g>\n       <use style=\"stroke:#000000;stroke-width:0.8;\" x=\"66.053125\" xlink:href=\"#m0825fa7274\" y=\"94.414514\"/>\n      </g>\n     </g>\n     <g id=\"text_10\">\n      <!-- 100000 -->\n      <defs>\n       <path d=\"M 12.40625 8.296875 \nL 28.515625 8.296875 \nL 28.515625 63.921875 \nL 10.984375 60.40625 \nL 10.984375 69.390625 \nL 28.421875 72.90625 \nL 38.28125 72.90625 \nL 38.28125 8.296875 \nL 54.390625 8.296875 \nL 54.390625 0 \nL 12.40625 0 \nz\n\" id=\"DejaVuSans-49\"/>\n      </defs>\n      <g transform=\"translate(20.878125 98.213732)scale(0.1 -0.1)\">\n       <use xlink:href=\"#DejaVuSans-49\"/>\n       <use x=\"63.623047\" xlink:href=\"#DejaVuSans-48\"/>\n       <use x=\"127.246094\" xlink:href=\"#DejaVuSans-48\"/>\n       <use x=\"190.869141\" xlink:href=\"#DejaVuSans-48\"/>\n       <use x=\"254.492188\" xlink:href=\"#DejaVuSans-48\"/>\n       <use x=\"318.115234\" xlink:href=\"#DejaVuSans-48\"/>\n      </g>\n     </g>\n    </g>\n    <g id=\"ytick_8\">\n     <g id=\"line2d_10\">\n      <g>\n       <use style=\"stroke:#000000;stroke-width:0.8;\" x=\"66.053125\" xlink:href=\"#m0825fa7274\" y=\"26.718374\"/>\n      </g>\n     </g>\n     <g id=\"text_11\">\n      <!-- 110000 -->\n      <g transform=\"translate(20.878125 30.517593)scale(0.1 -0.1)\">\n       <use xlink:href=\"#DejaVuSans-49\"/>\n       <use x=\"63.623047\" xlink:href=\"#DejaVuSans-49\"/>\n       <use x=\"127.246094\" xlink:href=\"#DejaVuSans-48\"/>\n       <use x=\"190.869141\" xlink:href=\"#DejaVuSans-48\"/>\n       <use x=\"254.492188\" xlink:href=\"#DejaVuSans-48\"/>\n       <use x=\"318.115234\" xlink:href=\"#DejaVuSans-48\"/>\n      </g>\n     </g>\n    </g>\n    <g id=\"text_12\">\n     <!-- Salary in Dollars($) -->\n     <defs>\n      <path d=\"M 19.671875 64.796875 \nL 19.671875 8.109375 \nL 31.59375 8.109375 \nQ 46.6875 8.109375 53.6875 14.9375 \nQ 60.6875 21.78125 60.6875 36.53125 \nQ 60.6875 51.171875 53.6875 57.984375 \nQ 46.6875 64.796875 31.59375 64.796875 \nz\nM 9.8125 72.90625 \nL 30.078125 72.90625 \nQ 51.265625 72.90625 61.171875 64.09375 \nQ 71.09375 55.28125 71.09375 36.53125 \nQ 71.09375 17.671875 61.125 8.828125 \nQ 51.171875 0 30.078125 0 \nL 9.8125 0 \nz\n\" id=\"DejaVuSans-68\"/>\n      <path d=\"M 30.609375 48.390625 \nQ 23.390625 48.390625 19.1875 42.75 \nQ 14.984375 37.109375 14.984375 27.296875 \nQ 14.984375 17.484375 19.15625 11.84375 \nQ 23.34375 6.203125 30.609375 6.203125 \nQ 37.796875 6.203125 41.984375 11.859375 \nQ 46.1875 17.53125 46.1875 27.296875 \nQ 46.1875 37.015625 41.984375 42.703125 \nQ 37.796875 48.390625 30.609375 48.390625 \nz\nM 30.609375 56 \nQ 42.328125 56 49.015625 48.375 \nQ 55.71875 40.765625 55.71875 27.296875 \nQ 55.71875 13.875 49.015625 6.21875 \nQ 42.328125 -1.421875 30.609375 -1.421875 \nQ 18.84375 -1.421875 12.171875 6.21875 \nQ 5.515625 13.875 5.515625 27.296875 \nQ 5.515625 40.765625 12.171875 48.375 \nQ 18.84375 56 30.609375 56 \nz\n\" id=\"DejaVuSans-111\"/>\n      <path d=\"M 44.28125 53.078125 \nL 44.28125 44.578125 \nQ 40.484375 46.53125 36.375 47.5 \nQ 32.28125 48.484375 27.875 48.484375 \nQ 21.1875 48.484375 17.84375 46.4375 \nQ 14.5 44.390625 14.5 40.28125 \nQ 14.5 37.15625 16.890625 35.375 \nQ 19.28125 33.59375 26.515625 31.984375 \nL 29.59375 31.296875 \nQ 39.15625 29.25 43.1875 25.515625 \nQ 47.21875 21.78125 47.21875 15.09375 \nQ 47.21875 7.46875 41.1875 3.015625 \nQ 35.15625 -1.421875 24.609375 -1.421875 \nQ 20.21875 -1.421875 15.453125 -0.5625 \nQ 10.6875 0.296875 5.421875 2 \nL 5.421875 11.28125 \nQ 10.40625 8.6875 15.234375 7.390625 \nQ 20.0625 6.109375 24.8125 6.109375 \nQ 31.15625 6.109375 34.5625 8.28125 \nQ 37.984375 10.453125 37.984375 14.40625 \nQ 37.984375 18.0625 35.515625 20.015625 \nQ 33.0625 21.96875 24.703125 23.78125 \nL 21.578125 24.515625 \nQ 13.234375 26.265625 9.515625 29.90625 \nQ 5.8125 33.546875 5.8125 39.890625 \nQ 5.8125 47.609375 11.28125 51.796875 \nQ 16.75 56 26.8125 56 \nQ 31.78125 56 36.171875 55.265625 \nQ 40.578125 54.546875 44.28125 53.078125 \nz\n\" id=\"DejaVuSans-115\"/>\n      <path d=\"M 31 75.875 \nQ 24.46875 64.65625 21.28125 53.65625 \nQ 18.109375 42.671875 18.109375 31.390625 \nQ 18.109375 20.125 21.3125 9.0625 \nQ 24.515625 -2 31 -13.1875 \nL 23.1875 -13.1875 \nQ 15.875 -1.703125 12.234375 9.375 \nQ 8.59375 20.453125 8.59375 31.390625 \nQ 8.59375 42.28125 12.203125 53.3125 \nQ 15.828125 64.359375 23.1875 75.875 \nz\n\" id=\"DejaVuSans-40\"/>\n      <path d=\"M 33.796875 -14.703125 \nL 28.90625 -14.703125 \nL 28.859375 0 \nQ 23.734375 0.09375 18.609375 1.1875 \nQ 13.484375 2.296875 8.296875 4.5 \nL 8.296875 13.28125 \nQ 13.28125 10.15625 18.375 8.5625 \nQ 23.484375 6.984375 28.90625 6.9375 \nL 28.90625 29.203125 \nQ 18.109375 30.953125 13.203125 35.15625 \nQ 8.296875 39.359375 8.296875 46.6875 \nQ 8.296875 54.640625 13.625 59.21875 \nQ 18.953125 63.8125 28.90625 64.5 \nL 28.90625 75.984375 \nL 33.796875 75.984375 \nL 33.796875 64.65625 \nQ 38.328125 64.453125 42.578125 63.6875 \nQ 46.828125 62.9375 50.875 61.625 \nL 50.875 53.078125 \nQ 46.828125 55.125 42.546875 56.25 \nQ 38.28125 57.375 33.796875 57.5625 \nL 33.796875 36.71875 \nQ 44.875 35.015625 50.09375 30.609375 \nQ 55.328125 26.21875 55.328125 18.609375 \nQ 55.328125 10.359375 49.78125 5.59375 \nQ 44.234375 0.828125 33.796875 0.09375 \nz\nM 28.90625 37.59375 \nL 28.90625 57.625 \nQ 23.25 56.984375 20.265625 54.390625 \nQ 17.28125 51.8125 17.28125 47.515625 \nQ 17.28125 43.3125 20.03125 40.96875 \nQ 22.796875 38.625 28.90625 37.59375 \nz\nM 33.796875 28.21875 \nL 33.796875 7.078125 \nQ 39.984375 7.90625 43.140625 10.59375 \nQ 46.296875 13.28125 46.296875 17.671875 \nQ 46.296875 21.96875 43.28125 24.5 \nQ 40.28125 27.046875 33.796875 28.21875 \nz\n\" id=\"DejaVuSans-36\"/>\n      <path d=\"M 8.015625 75.875 \nL 15.828125 75.875 \nQ 23.140625 64.359375 26.78125 53.3125 \nQ 30.421875 42.28125 30.421875 31.390625 \nQ 30.421875 20.453125 26.78125 9.375 \nQ 23.140625 -1.703125 15.828125 -13.1875 \nL 8.015625 -13.1875 \nQ 14.5 -2 17.703125 9.0625 \nQ 20.90625 20.125 20.90625 31.390625 \nQ 20.90625 42.671875 17.703125 53.65625 \nQ 14.5 64.65625 8.015625 75.875 \nz\n\" id=\"DejaVuSans-41\"/>\n     </defs>\n     <g transform=\"translate(14.798438 342.054844)rotate(-90)scale(0.1 -0.1)\">\n      <use xlink:href=\"#DejaVuSans-83\"/>\n      <use x=\"63.476562\" xlink:href=\"#DejaVuSans-97\"/>\n      <use x=\"124.755859\" xlink:href=\"#DejaVuSans-108\"/>\n      <use x=\"152.539062\" xlink:href=\"#DejaVuSans-97\"/>\n      <use x=\"213.818359\" xlink:href=\"#DejaVuSans-114\"/>\n      <use x=\"254.931641\" xlink:href=\"#DejaVuSans-121\"/>\n      <use x=\"314.111328\" xlink:href=\"#DejaVuSans-32\"/>\n      <use x=\"345.898438\" xlink:href=\"#DejaVuSans-105\"/>\n      <use x=\"373.681641\" xlink:href=\"#DejaVuSans-110\"/>\n      <use x=\"437.060547\" xlink:href=\"#DejaVuSans-32\"/>\n      <use x=\"468.847656\" xlink:href=\"#DejaVuSans-68\"/>\n      <use x=\"545.849609\" xlink:href=\"#DejaVuSans-111\"/>\n      <use x=\"607.03125\" xlink:href=\"#DejaVuSans-108\"/>\n      <use x=\"634.814453\" xlink:href=\"#DejaVuSans-108\"/>\n      <use x=\"662.597656\" xlink:href=\"#DejaVuSans-97\"/>\n      <use x=\"723.876953\" xlink:href=\"#DejaVuSans-114\"/>\n      <use x=\"764.990234\" xlink:href=\"#DejaVuSans-115\"/>\n      <use x=\"817.089844\" xlink:href=\"#DejaVuSans-40\"/>\n      <use x=\"856.103516\" xlink:href=\"#DejaVuSans-36\"/>\n      <use x=\"919.726562\" xlink:href=\"#DejaVuSans-41\"/>\n     </g>\n    </g>\n   </g>\n   <g id=\"line2d_11\">\n    <path clip-path=\"url(#p724d9c835b)\" d=\"M 243.915625 520.561712 \nL 306.690625 520.561712 \nL 306.690625 433.741413 \nL 243.915625 433.741413 \nL 243.915625 520.561712 \n\" style=\"fill:none;stroke:#000000;stroke-linecap:square;\"/>\n   </g>\n   <g id=\"line2d_12\">\n    <path clip-path=\"url(#p724d9c835b)\" d=\"M 275.303125 520.561712 \nL 275.303125 541.209034 \n\" style=\"fill:none;stroke:#000000;stroke-linecap:square;\"/>\n   </g>\n   <g id=\"line2d_13\">\n    <path clip-path=\"url(#p724d9c835b)\" d=\"M 275.303125 433.741413 \nL 275.303125 343.536307 \n\" style=\"fill:none;stroke:#000000;stroke-linecap:square;\"/>\n   </g>\n   <g id=\"line2d_14\">\n    <path clip-path=\"url(#p724d9c835b)\" d=\"M 259.609375 541.209034 \nL 290.996875 541.209034 \n\" style=\"fill:none;stroke:#000000;stroke-linecap:square;\"/>\n   </g>\n   <g id=\"line2d_15\">\n    <path clip-path=\"url(#p724d9c835b)\" d=\"M 259.609375 343.536307 \nL 290.996875 343.536307 \n\" style=\"fill:none;stroke:#000000;stroke-linecap:square;\"/>\n   </g>\n   <g id=\"line2d_16\">\n    <defs>\n     <path d=\"M 0 3 \nC 0.795609 3 1.55874 2.683901 2.12132 2.12132 \nC 2.683901 1.55874 3 0.795609 3 0 \nC 3 -0.795609 2.683901 -1.55874 2.12132 -2.12132 \nC 1.55874 -2.683901 0.795609 -3 0 -3 \nC -0.795609 -3 -1.55874 -2.683901 -2.12132 -2.12132 \nC -2.683901 -1.55874 -3 -0.795609 -3 0 \nC -3 0.795609 -2.683901 1.55874 -2.12132 2.12132 \nC -1.55874 2.683901 -0.795609 3 0 3 \nz\n\" id=\"mc4c55530ca\" style=\"stroke:#000000;\"/>\n    </defs>\n    <g clip-path=\"url(#p724d9c835b)\">\n     <use style=\"fill-opacity:0;stroke:#000000;\" x=\"275.303125\" xlink:href=\"#mc4c55530ca\" y=\"268.393592\"/>\n    </g>\n   </g>\n   <g id=\"line2d_17\">\n    <path clip-path=\"url(#p724d9c835b)\" d=\"M 662.415625 359.61414 \nL 725.190625 359.61414 \nL 725.190625 170.57267 \nL 662.415625 170.57267 \nL 662.415625 359.61414 \n\" style=\"fill:none;stroke:#000000;stroke-linecap:square;\"/>\n   </g>\n   <g id=\"line2d_18\">\n    <path clip-path=\"url(#p724d9c835b)\" d=\"M 693.803125 359.61414 \nL 693.803125 419.355983 \n\" style=\"fill:none;stroke:#000000;stroke-linecap:square;\"/>\n   </g>\n   <g id=\"line2d_19\">\n    <path clip-path=\"url(#p724d9c835b)\" d=\"M 693.803125 170.57267 \nL 693.803125 47.027216 \n\" style=\"fill:none;stroke:#000000;stroke-linecap:square;\"/>\n   </g>\n   <g id=\"line2d_20\">\n    <path clip-path=\"url(#p724d9c835b)\" d=\"M 678.109375 419.355983 \nL 709.496875 419.355983 \n\" style=\"fill:none;stroke:#000000;stroke-linecap:square;\"/>\n   </g>\n   <g id=\"line2d_21\">\n    <path clip-path=\"url(#p724d9c835b)\" d=\"M 678.109375 47.027216 \nL 709.496875 47.027216 \n\" style=\"fill:none;stroke:#000000;stroke-linecap:square;\"/>\n   </g>\n   <g id=\"line2d_22\"/>\n   <g id=\"line2d_23\">\n    <path clip-path=\"url(#p724d9c835b)\" d=\"M 243.915625 494.837179 \nL 306.690625 494.837179 \n\" style=\"fill:none;stroke:#ff7f0e;stroke-linecap:square;\"/>\n   </g>\n   <g id=\"line2d_24\">\n    <path clip-path=\"url(#p724d9c835b)\" d=\"M 662.415625 283.963704 \nL 725.190625 283.963704 \n\" style=\"fill:none;stroke:#ff7f0e;stroke-linecap:square;\"/>\n   </g>\n   <g id=\"patch_3\">\n    <path d=\"M 66.053125 565.918125 \nL 66.053125 22.318125 \n\" style=\"fill:none;stroke:#000000;stroke-linecap:square;stroke-linejoin:miter;stroke-width:0.8;\"/>\n   </g>\n   <g id=\"patch_4\">\n    <path d=\"M 903.053125 565.918125 \nL 903.053125 22.318125 \n\" style=\"fill:none;stroke:#000000;stroke-linecap:square;stroke-linejoin:miter;stroke-width:0.8;\"/>\n   </g>\n   <g id=\"patch_5\">\n    <path d=\"M 66.053125 565.918125 \nL 903.053125 565.918125 \n\" style=\"fill:none;stroke:#000000;stroke-linecap:square;stroke-linejoin:miter;stroke-width:0.8;\"/>\n   </g>\n   <g id=\"patch_6\">\n    <path d=\"M 66.053125 22.318125 \nL 903.053125 22.318125 \n\" style=\"fill:none;stroke:#000000;stroke-linecap:square;stroke-linejoin:miter;stroke-width:0.8;\"/>\n   </g>\n   <g id=\"text_13\">\n    <!-- Median Salary at Start of Career and Mid Career -->\n    <defs>\n     <path d=\"M 37.109375 75.984375 \nL 37.109375 68.5 \nL 28.515625 68.5 \nQ 23.6875 68.5 21.796875 66.546875 \nQ 19.921875 64.59375 19.921875 59.515625 \nL 19.921875 54.6875 \nL 34.71875 54.6875 \nL 34.71875 47.703125 \nL 19.921875 47.703125 \nL 19.921875 0 \nL 10.890625 0 \nL 10.890625 47.703125 \nL 2.296875 47.703125 \nL 2.296875 54.6875 \nL 10.890625 54.6875 \nL 10.890625 58.5 \nQ 10.890625 67.625 15.140625 71.796875 \nQ 19.390625 75.984375 28.609375 75.984375 \nz\n\" id=\"DejaVuSans-102\"/>\n    </defs>\n    <g transform=\"translate(340.119063 16.318125)scale(0.12 -0.12)\">\n     <use xlink:href=\"#DejaVuSans-77\"/>\n     <use x=\"86.279297\" xlink:href=\"#DejaVuSans-101\"/>\n     <use x=\"147.802734\" xlink:href=\"#DejaVuSans-100\"/>\n     <use x=\"211.279297\" xlink:href=\"#DejaVuSans-105\"/>\n     <use x=\"239.0625\" xlink:href=\"#DejaVuSans-97\"/>\n     <use x=\"300.341797\" xlink:href=\"#DejaVuSans-110\"/>\n     <use x=\"363.720703\" xlink:href=\"#DejaVuSans-32\"/>\n     <use x=\"395.507812\" xlink:href=\"#DejaVuSans-83\"/>\n     <use x=\"458.984375\" xlink:href=\"#DejaVuSans-97\"/>\n     <use x=\"520.263672\" xlink:href=\"#DejaVuSans-108\"/>\n     <use x=\"548.046875\" xlink:href=\"#DejaVuSans-97\"/>\n     <use x=\"609.326172\" xlink:href=\"#DejaVuSans-114\"/>\n     <use x=\"650.439453\" xlink:href=\"#DejaVuSans-121\"/>\n     <use x=\"709.619141\" xlink:href=\"#DejaVuSans-32\"/>\n     <use x=\"741.40625\" xlink:href=\"#DejaVuSans-97\"/>\n     <use x=\"802.685547\" xlink:href=\"#DejaVuSans-116\"/>\n     <use x=\"841.894531\" xlink:href=\"#DejaVuSans-32\"/>\n     <use x=\"873.681641\" xlink:href=\"#DejaVuSans-83\"/>\n     <use x=\"937.158203\" xlink:href=\"#DejaVuSans-116\"/>\n     <use x=\"976.367188\" xlink:href=\"#DejaVuSans-97\"/>\n     <use x=\"1037.646484\" xlink:href=\"#DejaVuSans-114\"/>\n     <use x=\"1078.759766\" xlink:href=\"#DejaVuSans-116\"/>\n     <use x=\"1117.96875\" xlink:href=\"#DejaVuSans-32\"/>\n     <use x=\"1149.755859\" xlink:href=\"#DejaVuSans-111\"/>\n     <use x=\"1210.9375\" xlink:href=\"#DejaVuSans-102\"/>\n     <use x=\"1246.142578\" xlink:href=\"#DejaVuSans-32\"/>\n     <use x=\"1277.929688\" xlink:href=\"#DejaVuSans-67\"/>\n     <use x=\"1347.753906\" xlink:href=\"#DejaVuSans-97\"/>\n     <use x=\"1409.033203\" xlink:href=\"#DejaVuSans-114\"/>\n     <use x=\"1447.896484\" xlink:href=\"#DejaVuSans-101\"/>\n     <use x=\"1509.419922\" xlink:href=\"#DejaVuSans-101\"/>\n     <use x=\"1570.943359\" xlink:href=\"#DejaVuSans-114\"/>\n     <use x=\"1612.056641\" xlink:href=\"#DejaVuSans-32\"/>\n     <use x=\"1643.84375\" xlink:href=\"#DejaVuSans-97\"/>\n     <use x=\"1705.123047\" xlink:href=\"#DejaVuSans-110\"/>\n     <use x=\"1768.501953\" xlink:href=\"#DejaVuSans-100\"/>\n     <use x=\"1831.978516\" xlink:href=\"#DejaVuSans-32\"/>\n     <use x=\"1863.765625\" xlink:href=\"#DejaVuSans-77\"/>\n     <use x=\"1950.044922\" xlink:href=\"#DejaVuSans-105\"/>\n     <use x=\"1977.828125\" xlink:href=\"#DejaVuSans-100\"/>\n     <use x=\"2041.304688\" xlink:href=\"#DejaVuSans-32\"/>\n     <use x=\"2073.091797\" xlink:href=\"#DejaVuSans-67\"/>\n     <use x=\"2142.916016\" xlink:href=\"#DejaVuSans-97\"/>\n     <use x=\"2204.195312\" xlink:href=\"#DejaVuSans-114\"/>\n     <use x=\"2243.058594\" xlink:href=\"#DejaVuSans-101\"/>\n     <use x=\"2304.582031\" xlink:href=\"#DejaVuSans-101\"/>\n     <use x=\"2366.105469\" xlink:href=\"#DejaVuSans-114\"/>\n    </g>\n   </g>\n  </g>\n </g>\n <defs>\n  <clipPath id=\"p724d9c835b\">\n   <rect height=\"543.6\" width=\"837\" x=\"66.053125\" y=\"22.318125\"/>\n  </clipPath>\n </defs>\n</svg>\n",
      "image/png": "[encoded data removed]"
     },
     "metadata": {
      "needs_background": "light"
     }
    }
   ],
   "source": [
    "start_career = major_salary['Starting Median Salary'].astype(float)\n",
    "mid_career = major_salary['Mid-Career Median Salary'].astype(float)\n",
    "# print(type(start_career))\n",
    "# print(type(mid_career))\n",
    "\n",
    "plt.figure(figsize=(15,10))\n",
    "plt.boxplot([start_career, mid_career])\n",
    "plt.xticks([1, 2], ['Starting Median Salary', 'Mid-Career Median Salary'])\n",
    "plt.xlabel(\"Career Median Salary\")\n",
    "plt.ylabel(\"Salary in Dollars($)\")\n",
    "plt.title(\"Median Salary at Start of Career and Mid Career\")\n",
    "plt.show()"
   ]
  },
  {
   "cell_type": "code",
   "execution_count": null,
   "metadata": {},
   "outputs": [],
   "source": [
    "#Check for any and all outliers for the column: Starting Median Salary in major_salary"
   ]
  },
  {
   "cell_type": "code",
   "execution_count": 16,
   "metadata": {},
   "outputs": [
    {
     "output_type": "stream",
     "name": "stdout",
     "text": [
      "                    Starting Median Salary Mid-Career Median Salary\nUndergraduate Major                                                \nPhysician Assistant               74300.00                 91700.00\n"
     ]
    }
   ],
   "source": [
    "#Get any and all outliers for column Starting Median Salary in major_salary\n",
    "iqr = start_career.quantile(0.75) - start_career.quantile(0.25)\n",
    "min = start_career.quantile(0.25) - (1.5 * iqr)\n",
    "max = start_career.quantile(0.75) + (1.5 * iqr)\n",
    "\n",
    "min_df = major_salary.loc[major_salary['Starting Median Salary'].astype(float) < min]\n",
    "max_df = major_salary.loc[major_salary['Starting Median Salary'].astype(float) > max]\n",
    "outliers = pd.concat([min_df, max_df])\n",
    "if(len(outliers) == 0):\n",
    "    print(\"No outliers in column: Mid-Career Median Salary\")\n",
    "else:\n",
    "    print(outliers.head())"
   ]
  },
  {
   "cell_type": "code",
   "execution_count": null,
   "metadata": {},
   "outputs": [],
   "source": [
    "#Check for any and all outliers for the column: Mid-Career Median Salary in major_salary"
   ]
  },
  {
   "cell_type": "code",
   "execution_count": 18,
   "metadata": {},
   "outputs": [
    {
     "output_type": "stream",
     "name": "stdout",
     "text": [
      "No outliers in column: Mid-Career Median Salary\n"
     ]
    }
   ],
   "source": [
    "#Get any and all outliers for column Mid-Career Median Salary in major_salary\n",
    "iqr = mid_career.quantile(0.75) - start_career.quantile(0.25)\n",
    "min = mid_career.quantile(0.25) - (1.5 * iqr)\n",
    "max = mid_career.quantile(0.75) + (1.5 * iqr)\n",
    "\n",
    "min_df = major_salary.loc[major_salary['Mid-Career Median Salary'].astype(float) < min]\n",
    "max_df = major_salary.loc[major_salary['Mid-Career Median Salary'].astype(float) > max]\n",
    "outliers = pd.concat([min_df, max_df])\n",
    "if(len(outliers) == 0):\n",
    "    print(\"No outliers in column: Mid-Career Median Salary\")\n",
    "else:\n",
    "    print(outliers.head())"
   ]
  },
  {
   "cell_type": "code",
   "execution_count": 22,
   "metadata": {},
   "outputs": [],
   "source": [
    "#Create a bar graph comparing starting and mid-career median salary of each major that is listed"
   ]
  },
  {
   "cell_type": "code",
   "execution_count": 23,
   "metadata": {},
   "outputs": [],
   "source": [
    "#Code for bar graph goes here"
   ]
  },
  {
   "cell_type": "code",
   "execution_count": 24,
   "metadata": {},
   "outputs": [],
   "source": [
    "#Add a markdown stating that from here on will be all about the data frame: college_region\n",
    "#Check for any and all NaN rows and print it out"
   ]
  },
  {
   "cell_type": "code",
   "execution_count": null,
   "metadata": {},
   "outputs": [],
   "source": [
    "#To find which rows have NaN values\n",
    "college_region.loc[(college_region['Starting Median Salary'].isna())]"
   ]
  },
  {
   "cell_type": "code",
   "execution_count": 25,
   "metadata": {},
   "outputs": [],
   "source": [
    "#state that we are formatting the data from string format to float format for easier manipulation in the future"
   ]
  },
  {
   "cell_type": "code",
   "execution_count": null,
   "metadata": {},
   "outputs": [],
   "source": [
    "for y, x in college_region.iterrows():\n",
    "    stSal = str(x['Starting Median Salary'])\n",
    "    stSal_fin = stSal.replace('$', '').replace(',', '')\n",
    "    x['Starting Median Salary'] = stSal_fin\n",
    "\n",
    "    mdSal = str(x['Mid-Career Median Salary'])\n",
    "    mdSal_fin = mdSal.replace('$', '').replace(',', '')\n",
    "    x['Mid-Career Median Salary'] = mdSal_fin\n",
    "    # print(x['Starting Median Salary'], x['Mid-Career Median Salary'])"
   ]
  },
  {
   "cell_type": "code",
   "execution_count": 26,
   "metadata": {},
   "outputs": [],
   "source": [
    "#Replace any and all NaN Values with the median values for the salaray related categories"
   ]
  },
  {
   "cell_type": "code",
   "execution_count": null,
   "metadata": {},
   "outputs": [],
   "source": [
    "stcr = college_region['Starting Median Salary'].astype(float)\n",
    "col_df1 = stcr.fillna(stcr.median(skipna = True)).astype(float)\n",
    "# print(col_df.head())\n",
    "\n",
    "mdcr = college_region['Mid-Career Median Salary'].astype(float)\n",
    "col_df2 = mdcr.fillna(mdcr.median(skipna = True)).astype(float)"
   ]
  },
  {
   "cell_type": "code",
   "execution_count": null,
   "metadata": {},
   "outputs": [],
   "source": [
    "#Create a box plot to visualize the spread of data"
   ]
  },
  {
   "cell_type": "code",
   "execution_count": null,
   "metadata": {},
   "outputs": [],
   "source": [
    "plt.figure(figsize = (15,10))\n",
    "plt.boxplot([col_df1, col_df2])\n",
    "plt.xticks([1, 2], ['Starting Median Salary', 'Mid-Career Median Salary'])\n",
    "plt.xlabel(\"Career Median Salary\")\n",
    "plt.ylabel(\"Salary in Dollars ($)\")\n",
    "plt.title(\"Median Salary at Start of Career and Mid Career by Colleges and Regions\")\n",
    "plt.show()"
   ]
  },
  {
   "cell_type": "code",
   "execution_count": null,
   "metadata": {},
   "outputs": [],
   "source": [
    "#Check for any and all outliers for the column: Starting Median Salary in major_salary"
   ]
  },
  {
   "cell_type": "code",
   "execution_count": null,
   "metadata": {},
   "outputs": [],
   "source": [
    "#Code goes here"
   ]
  },
  {
   "cell_type": "code",
   "execution_count": null,
   "metadata": {},
   "outputs": [],
   "source": [
    "#Check for any and all outliers for the column: Mid-Career Median Salary in major_salary"
   ]
  },
  {
   "cell_type": "code",
   "execution_count": null,
   "metadata": {},
   "outputs": [],
   "source": [
    "#Code goes here"
   ]
  },
  {
   "cell_type": "code",
   "execution_count": null,
   "metadata": {},
   "outputs": [],
   "source": [
    "#Check for NaN in the categorical column: region, and fill any NaN values with the mode value in the column"
   ]
  },
  {
   "cell_type": "code",
   "execution_count": null,
   "metadata": {},
   "outputs": [],
   "source": [
    "#Code goes here"
   ]
  },
  {
   "cell_type": "code",
   "execution_count": 27,
   "metadata": {},
   "outputs": [],
   "source": [
    "#Visualize the frequency of colleges in each region"
   ]
  },
  {
   "cell_type": "code",
   "execution_count": null,
   "metadata": {},
   "outputs": [],
   "source": [
    "#Code goes here"
   ]
  }
 ],
 "metadata": {
  "kernelspec": {
   "display_name": "Python 3",
   "language": "python",
   "name": "python3"
  },
  "language_info": {
   "codemirror_mode": {
    "name": "ipython",
    "version": 3
   },
   "file_extension": ".py",
   "mimetype": "text/x-python",
   "name": "python",
   "nbconvert_exporter": "python",
   "pygments_lexer": "ipython3",
   "version": "3.8.3-final"
  }
 },
 "nbformat": 4,
 "nbformat_minor": 4
}